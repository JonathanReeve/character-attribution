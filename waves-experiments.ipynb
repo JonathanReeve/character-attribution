{
 "cells": [
  {
   "cell_type": "code",
   "execution_count": 478,
   "metadata": {
    "collapsed": true
   },
   "outputs": [],
   "source": [
    "from lxml import etree\n",
    "import re\n",
    "import math\n",
    "import numpy as np\n",
    "import pandas as pd\n",
    "from sklearn import metrics\n",
    "from sklearn.feature_extraction.text import TfidfVectorizer, CountVectorizer\n",
    "from sklearn.cluster import DBSCAN\n",
    "from sklearn.decomposition import TruncatedSVD, PCA\n",
    "from sklearn.preprocessing import Normalizer\n",
    "from sklearn.pipeline import make_pipeline\n",
    "from matplotlib import pyplot as plt\n",
    "from sklearn.cluster import KMeans, MiniBatchKMeans\n",
    "%matplotlib inline"
   ]
  },
  {
   "cell_type": "code",
   "execution_count": 662,
   "metadata": {
    "collapsed": false
   },
   "outputs": [],
   "source": [
    "class Text(): \n",
    "    def __init__(self, filename, lenRange=(2000, 10000), chunks=False): \n",
    "        lenMin, lenMax = lenRange\n",
    "        self.tree = etree.parse(filename)\n",
    "        self.allSaidElems = self.tree.findall('.//said[@who]')\n",
    "        # Only get those in our length range\n",
    "        self.saidElems = [elem for elem in self.allSaidElems if len(elem.text)>lenMin and len(elem.text)<lenMax]\n",
    "        self.allChars = [elem.attrib['who'] for elem in self.saidElems]\n",
    "        self.chars = list(set(self.allChars))\n",
    "        self.labeledText = [(elem.attrib['who'], elem.text) for elem in self.saidElems]\n",
    "        self.labeledText = [(item[0], self.clean(item[1])) for item in self.labeledText]\n",
    "        self.labels = [item[0] for item in self.labeledText]\n",
    "        self.allText = [item[1] for item in self.labeledText]\n",
    "        self.charDict = self.makeCharDict()\n",
    "        self.charChunks, self.charChunksLabels = self.makeCharChunks()\n",
    "        if chunks: \n",
    "            self.allText = self.charChunks\n",
    "            self.labels = self.charChunksLabels\n",
    "        self.lengths = [len(item) for item in self.allText]\n",
    "        \n",
    "    def makeCharDict(self): \n",
    "        \"\"\" Make a dictionary of each character's total speech. \"\"\"\n",
    "        # Initialize empty dictionary. \n",
    "        charDict = {char: \"\" for char in self.chars}\n",
    "        for elem in self.allSaidElems: \n",
    "            charDict[elem.attrib['who']]+=elem.text\n",
    "        return charDict\n",
    "            \n",
    "    def makeCharChunks(self, n=2): \n",
    "        \"\"\" Make a list of chunks of character speech. \"\"\"\n",
    "        charChunks = []\n",
    "        charChunksLabels = []\n",
    "        for char, text in self.charDict.items(): \n",
    "            #chunks = self.chunkText(text, n)\n",
    "            chunks = self.sliceText(text)\n",
    "            for i, chunk in enumerate(chunks): \n",
    "                charChunks.append(chunk)\n",
    "                charChunksLabels.append(char + '-%s' % i)\n",
    "        return charChunks, charChunksLabels\n",
    "        \n",
    "    def chunkText(self, text, n=2): \n",
    "        \"\"\" Breaks one text into n texts.\"\"\"\n",
    "        newLen = math.floor(len(text) / n)\n",
    "        parts = [text[i:i+newLen] for i in range(0, len(text), newLen)]\n",
    "        if len(parts) > n: \n",
    "            parts[-2]+=parts[-1]\n",
    "            parts = parts[:n]\n",
    "        return parts\n",
    "    \n",
    "    def sliceText(self, text, size=8000):\n",
    "        parts = []\n",
    "        while len(text) > size: \n",
    "            part = text[:size]\n",
    "            text = text[size:]\n",
    "            parts.append(part)\n",
    "        return parts\n",
    "\n",
    "    def clean(self, utterance): \n",
    "        \"\"\" \n",
    "        Cleans utterances. \n",
    "        \"\"\"\n",
    "        # Remove \"said Bernard,\" etc. \n",
    "        charRegex = \"said (%s),\" % '|'.join(self.chars)\n",
    "        out = re.sub(charRegex, '', utterance)\n",
    "       \n",
    "        # Remove quotation marks. \n",
    "        out = re.sub('[“”\"]', '', out)\n",
    "        \n",
    "        # Remove line breaks. \n",
    "        out = re.sub('\\n', ' ', out)\n",
    "        return out"
   ]
  },
  {
   "cell_type": "code",
   "execution_count": 746,
   "metadata": {
    "collapsed": false
   },
   "outputs": [],
   "source": [
    "t = Text('waves-tei.xml', lenRange=(5000, 10000))"
   ]
  },
  {
   "cell_type": "code",
   "execution_count": 747,
   "metadata": {
    "collapsed": false
   },
   "outputs": [
    {
     "data": {
      "text/plain": [
       "<matplotlib.axes._subplots.AxesSubplot at 0x7f3e50f66390>"
      ]
     },
     "execution_count": 747,
     "metadata": {},
     "output_type": "execute_result"
    },
    {
     "data": {
      "image/png": "[encoded data removed]",
      "text/plain": [
       "<matplotlib.figure.Figure at 0x7f3e50fb9160>"
      ]
     },
     "metadata": {},
     "output_type": "display_data"
    }
   ],
   "source": [
    "lens = [len(utterance) for utterance in t.allText]\n",
    "pd.Series(lens).hist()"
   ]
  },
  {
   "cell_type": "code",
   "execution_count": 748,
   "metadata": {
    "collapsed": true
   },
   "outputs": [],
   "source": [
    "docs = t.allText"
   ]
  },
  {
   "cell_type": "code",
   "execution_count": 749,
   "metadata": {
    "collapsed": true
   },
   "outputs": [],
   "source": [
    "tfidf_vectorizer = TfidfVectorizer(min_df=0.15, max_df=0.4)\n",
    "tfidfs = tfidf_vectorizer.fit_transform(docs).todense()\n",
    "df = pd.DataFrame(tfidfs, columns=tfidf_vectorizer.get_feature_names())"
   ]
  },
  {
   "cell_type": "code",
   "execution_count": 750,
   "metadata": {
    "collapsed": false
   },
   "outputs": [
    {
     "data": {
      "text/plain": [
       "(14, 455)"
      ]
     },
     "execution_count": 750,
     "metadata": {},
     "output_type": "execute_result"
    }
   ],
   "source": [
    "df.shape"
   ]
  },
  {
   "cell_type": "code",
   "execution_count": 751,
   "metadata": {
    "collapsed": true
   },
   "outputs": [],
   "source": [
    "def addLabels(df): \n",
    "    df['label'] = t.labels\n",
    "    df['char'] = df['label'].str.split('-').str.get(0)\n",
    "    df['lengths'] = t.lengths\n",
    "    df['lengths'] = df['lengths'].divide(df['lengths'].max())\n",
    "    df['lengths'] = df['lengths'] * 40"
   ]
  },
  {
   "cell_type": "code",
   "execution_count": 752,
   "metadata": {
    "collapsed": false
   },
   "outputs": [],
   "source": [
    "# Do latent semantic analysis dimensionality reduction. \n",
    "svd = TruncatedSVD()\n",
    "lsa_out = svd.fit_transform(df)\n",
    "lsaDF = pd.DataFrame(lsa_out, columns=['x','y'])\n",
    "addLabels(lsaDF)"
   ]
  },
  {
   "cell_type": "code",
   "execution_count": 753,
   "metadata": {
    "collapsed": false
   },
   "outputs": [],
   "source": [
    "# Do PCA\n",
    "pca = PCA(n_components=2)\n",
    "pca_out = pca.fit_transform(df)\n",
    "pcaDF = pd.DataFrame(pca_out, columns=['x', 'y'])\n",
    "addLabels(pcaDF)"
   ]
  },
  {
   "cell_type": "code",
   "execution_count": 754,
   "metadata": {
    "collapsed": false
   },
   "outputs": [],
   "source": [
    "def translateColor(label): \n",
    "    colorDict = {'B': 'b', 'S': 'g', 'R': 'r', 'N': 'c', 'J': 'y', 'L': 'm'}\n",
    "    return colorDict[label[0]]"
   ]
  },
  {
   "cell_type": "code",
   "execution_count": 755,
   "metadata": {
    "collapsed": true
   },
   "outputs": [],
   "source": [
    "def plotChars(df): \n",
    "    for char in t.chars: \n",
    "        charDF = df.loc[df['char'] == char]\n",
    "        plt.scatter(charDF['x'], charDF['y'], color=translateColor(char), s=charDF['lengths'], label=char)\n",
    "        #plt.legend()"
   ]
  },
  {
   "cell_type": "code",
   "execution_count": 756,
   "metadata": {
    "collapsed": false
   },
   "outputs": [
    {
     "data": {
      "image/png": "[encoded data removed]",
      "text/plain": [
       "<matplotlib.figure.Figure at 0x7f3e51084080>"
      ]
     },
     "metadata": {},
     "output_type": "display_data"
    }
   ],
   "source": [
    "plotChars(pcaDF)"
   ]
  },
  {
   "cell_type": "code",
   "execution_count": 757,
   "metadata": {
    "collapsed": false
   },
   "outputs": [
    {
     "data": {
      "image/png": "[encoded data removed]",
      "text/plain": [
       "<matplotlib.figure.Figure at 0x7f3e51661630>"
      ]
     },
     "metadata": {},
     "output_type": "display_data"
    }
   ],
   "source": [
    "plotChars(lsaDF)"
   ]
  },
  {
   "cell_type": "code",
   "execution_count": 851,
   "metadata": {
    "collapsed": false
   },
   "outputs": [],
   "source": [
    "def doKMeans(df):\n",
    "    km = KMeans(n_clusters=6)\n",
    "    fitted = km.fit_transform(df[['x', 'y']])\n",
    "    means = np.argmax(fitted, axis=1)\n",
    "    df['mean']=means\n",
    "    print(means)\n",
    "    colorMap = 'rgbcmyk'\n",
    "    for row in df.iterrows(): \n",
    "#         print(row[1]['x'])\n",
    "#         print(row[1]['y'])\n",
    "#         print(row[1]['mean'])\n",
    "#         print(colorMap[row[1]['mean']])\n",
    "        plt.scatter(row[1]['x'], row[1]['y'], color=colorMap[row[1]['mean']])"
   ]
  },
  {
   "cell_type": "code",
   "execution_count": 852,
   "metadata": {
    "collapsed": false
   },
   "outputs": [
    {
     "name": "stdout",
     "output_type": "stream",
     "text": [
      "[4 3 2 3 3 4 3 5 3 1 3 1 2 3]\n"
     ]
    },
    {
     "data": {
      "image/png": "[encoded data removed]",
      "text/plain": [
       "<matplotlib.figure.Figure at 0x7f3e518e6908>"
      ]
     },
     "metadata": {},
     "output_type": "display_data"
    }
   ],
   "source": [
    "doKMeans(pcaDF)"
   ]
  },
  {
   "cell_type": "code",
   "execution_count": 854,
   "metadata": {
    "collapsed": false
   },
   "outputs": [
    {
     "name": "stdout",
     "output_type": "stream",
     "text": [
      "[0 0 1 0 0 0 0 1 0 1 0 1 1 0]\n"
     ]
    },
    {
     "data": {
      "image/png": "[encoded data removed]",
      "text/plain": [
       "<matplotlib.figure.Figure at 0x7f3e50cc3908>"
      ]
     },
     "metadata": {},
     "output_type": "display_data"
    }
   ],
   "source": [
    "doKMeans(lsaDF)"
   ]
  },
  {
   "cell_type": "code",
   "execution_count": null,
   "metadata": {
    "collapsed": true
   },
   "outputs": [],
   "source": []
  }
 ],
 "metadata": {
  "kernelspec": {
   "display_name": "Python 3",
   "language": "python",
   "name": "python3"
  },
  "language_info": {
   "codemirror_mode": {
    "name": "ipython",
    "version": 3
   },
   "file_extension": ".py",
   "mimetype": "text/x-python",
   "name": "python",
   "nbconvert_exporter": "python",
   "pygments_lexer": "ipython3",
   "version": "3.5.2"
  }
 },
 "nbformat": 4,
 "nbformat_minor": 1
}
