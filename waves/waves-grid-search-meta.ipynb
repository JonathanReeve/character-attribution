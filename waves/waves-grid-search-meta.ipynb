{
 "cells": [
  {
   "cell_type": "code",
   "execution_count": 28,
   "metadata": {
    "collapsed": false
   },
   "outputs": [],
   "source": [
    "from lxml import etree\n",
    "import re\n",
    "import math\n",
    "import numpy as np\n",
    "import pandas as pd\n",
    "from pprint import pprint\n",
    "from time import time\n",
    "from sklearn import metrics\n",
    "from sklearn.feature_extraction.text import TfidfVectorizer, CountVectorizer\n",
    "from sklearn.feature_extraction.text import TfidfTransformer\n",
    "from sklearn.base import BaseEstimator, TransformerMixin\n",
    "from sklearn.cluster import DBSCAN\n",
    "from sklearn.decomposition import TruncatedSVD, PCA, NMF\n",
    "from sklearn.preprocessing import Normalizer\n",
    "from sklearn.pipeline import Pipeline\n",
    "from sklearn.mixture import BayesianGaussianMixture, GaussianMixture\n",
    "from sklearn.model_selection import GridSearchCV\n",
    "from sklearn import metrics\n",
    "from matplotlib import pyplot as plt\n",
    "from sklearn.cluster import KMeans, MiniBatchKMeans\n",
    "%matplotlib inline"
   ]
  },
  {
   "cell_type": "code",
   "execution_count": 2,
   "metadata": {
    "collapsed": false
   },
   "outputs": [],
   "source": [
    "class Text(BaseEstimator, TransformerMixin): \n",
    "    def __init__(self, lenMin=2000, lenMax=10000, chunks=False): \n",
    "        self.lenMin = lenMin\n",
    "        self.lenMax = lenMax\n",
    "        self.chunks=chunks\n",
    "        \n",
    "    def fit(self, *_):\n",
    "        print('heyo! fitting')\n",
    "        return self\n",
    "\n",
    "    def transform(self, filename): \n",
    "        print('heyo! transforming')\n",
    "        lenMin, lenMax = self.lenMin, self.lenMax\n",
    "        self.tree = etree.parse(filename)\n",
    "        self.allSaidElems = self.tree.findall('.//said[@who]')\n",
    "        # Only get those in our length range\n",
    "        self.saidElems = [elem for elem in self.allSaidElems if len(elem.text)>lenMin and len(elem.text)<lenMax]\n",
    "        self.allChars = [elem.attrib['who'] for elem in self.saidElems]\n",
    "        self.chars = list(set(self.allChars))\n",
    "        self.labeledText = [(elem.attrib['who'], elem.text) for elem in self.saidElems]\n",
    "        self.labeledText = [(item[0], self.clean(item[1])) for item in self.labeledText]\n",
    "        self.labels = [item[0] for item in self.labeledText]\n",
    "        charDict = {'Bernard': 0, 'Louis': 1, 'Neville': 2,\n",
    "                'Rhoda': 3, 'Jinny': 4, 'Susan': 5}\n",
    "        self.numericLabels = [charDict[label] for label in self.labels]\n",
    "        self.allText = [item[1] for item in self.labeledText]\n",
    "        self.charDict = self.makeCharDict()\n",
    "        self.charChunks, self.charChunksLabels = self.makeCharChunks()\n",
    "        if self.chunks: \n",
    "            self.allText = self.charChunks\n",
    "            self.labels = self.charChunksLabels\n",
    "            self.numericLabels = [charDict[label.split('-')[0]] for label in self.labels]\n",
    "        self.lengths = [len(item) for item in self.allText]\n",
    "        return self.allText\n",
    "        \n",
    "    def makeCharDict(self): \n",
    "        \"\"\" Make a dictionary of each character's total speech. \"\"\"\n",
    "        # Initialize empty dictionary. \n",
    "        charDict = {char: \"\" for char in self.chars}\n",
    "        for elem in self.allSaidElems: \n",
    "            charDict[elem.attrib['who']]+=self.clean(elem.text)\n",
    "        return charDict\n",
    "            \n",
    "    def makeCharChunks(self, n=2): \n",
    "        \"\"\" Make a list of chunks of character speech. \"\"\"\n",
    "        charChunks = []\n",
    "        charChunksLabels = []\n",
    "        for char, text in self.charDict.items(): \n",
    "            chunks = self.sliceText(text)\n",
    "            for i, chunk in enumerate(chunks): \n",
    "                charChunks.append(chunk)\n",
    "                charChunksLabels.append(char + '-%s' % i)\n",
    "        return charChunks, charChunksLabels\n",
    "        \n",
    "    def sliceText(self, text, size=8000):\n",
    "        parts = []\n",
    "        while len(text) > size: \n",
    "            part = text[:size]\n",
    "            text = text[size:]\n",
    "            parts.append(part)\n",
    "        return parts\n",
    "\n",
    "    def clean(self, utterance): \n",
    "        \"\"\" \n",
    "        Cleans utterances. \n",
    "        \"\"\"\n",
    "        # Remove \"said Bernard,\" etc. \n",
    "        charRegex = \"said (%s)\" % '|'.join(self.chars)\n",
    "        out = re.sub(charRegex, '', utterance)\n",
    "       \n",
    "        # Remove quotation marks. \n",
    "        out = re.sub('[“”\"]', '', out)\n",
    "        \n",
    "        # Remove line breaks. \n",
    "        out = re.sub('\\n', ' ', out)\n",
    "        return out"
   ]
  },
  {
   "cell_type": "code",
   "execution_count": 3,
   "metadata": {
    "collapsed": false
   },
   "outputs": [],
   "source": [
    "# Code adapted from http://stackoverflow.com/a/28384887/584121\n",
    "class DenseTransformer(BaseEstimator, TransformerMixin):\n",
    "    \n",
    "    def __init__(self): \n",
    "        return\n",
    "\n",
    "    def transform(self, X, y=None, **fit_params):\n",
    "        return X.todense()\n",
    "\n",
    "    def fit_transform(self, X, y=None, **fit_params):\n",
    "        self.fit(X, y, **fit_params)\n",
    "        return self.transform(X)\n",
    "\n",
    "    def fit(self, X, y=None, **fit_params):\n",
    "        return self"
   ]
  },
  {
   "cell_type": "code",
   "execution_count": 6,
   "metadata": {
    "collapsed": false
   },
   "outputs": [],
   "source": [
    "def verboseGridSearch(pipeline, parameters, docs, labels): \n",
    "    scorer = metrics.make_scorer(metrics.adjusted_rand_score)    \n",
    "    grid_search = GridSearchCV(pipeline, parameters, scoring=scorer, n_jobs=-1, verbose=1)\n",
    "\n",
    "    print(\"Performing grid search...\")\n",
    "    print(\"pipeline:\", [name for name, _ in pipeline.steps])\n",
    "    print(\"parameters:\")\n",
    "    pprint(parameters)\n",
    "    t0 = time()\n",
    "    grid_search.fit(docs, labels)\n",
    "    print(\"done in %0.3fs\" % (time() - t0))\n",
    "    print()\n",
    "\n",
    "    print(\"Best score: %0.3f\" % grid_search.best_score_)\n",
    "    print(\"Best parameters set:\")\n",
    "    best_parameters = grid_search.best_estimator_.get_params()\n",
    "    for param_name in sorted(parameters.keys()):\n",
    "        print(\"\\t%s: %r\" % (param_name, best_parameters[param_name]))"
   ]
  },
  {
   "cell_type": "code",
   "execution_count": 18,
   "metadata": {
    "collapsed": false
   },
   "outputs": [
    {
     "name": "stdout",
     "output_type": "stream",
     "text": [
      "heyo! fitting\n",
      "heyo! transforming\n"
     ]
    },
    {
     "data": {
      "text/plain": [
       "<matplotlib.axes._subplots.AxesSubplot at 0x7f6cfc3db978>"
      ]
     },
     "execution_count": 18,
     "metadata": {},
     "output_type": "execute_result"
    },
    {
     "data": {
      "image/png": "[encoded data removed]",
      "text/plain": [
       "<matplotlib.figure.Figure at 0x7f6cff12d128>"
      ]
     },
     "metadata": {},
     "output_type": "display_data"
    }
   ],
   "source": [
    "text = Text(lenMin=4000, lenMax=20000).fit()\n",
    "docs = text.transform('waves-tei.xml')\n",
    "labels = text.numericLabels\n",
    "pd.Series([len(doc) for doc in docs]).hist()"
   ]
  },
  {
   "cell_type": "code",
   "execution_count": 19,
   "metadata": {
    "collapsed": false
   },
   "outputs": [
    {
     "data": {
      "text/plain": [
       "(19, 19)"
      ]
     },
     "execution_count": 19,
     "metadata": {},
     "output_type": "execute_result"
    }
   ],
   "source": [
    "len(docs), len(labels)"
   ]
  },
  {
   "cell_type": "markdown",
   "metadata": {},
   "source": [
    "# Test 1"
   ]
  },
  {
   "cell_type": "code",
   "execution_count": 20,
   "metadata": {
    "collapsed": false
   },
   "outputs": [],
   "source": [
    "pipeline = Pipeline([  \n",
    "#                          ('text', Text()), \n",
    "                         ('tfidf', TfidfVectorizer()),\n",
    "                         ('todense', DenseTransformer()),\n",
    "                         ('reduce', PCA()),\n",
    "                         ('bgm', BayesianGaussianMixture()),\n",
    "                        ])"
   ]
  },
  {
   "cell_type": "code",
   "execution_count": 25,
   "metadata": {
    "collapsed": false
   },
   "outputs": [],
   "source": [
    "parameters = {  \n",
    "#     'text__lenMin': (2000, 300\n",
    "#     'text__lenMax': (20000, 2000000),\n",
    "#     'tfidf__use_idf': (True, False), \n",
    "#     'tfidf__min_df': (0.0, 0.3, 0.4),\n",
    "    'tfidf__max_df': (0.3, 0.4, 1.0),\n",
    "    'tfidf__max_features': (200, 500, 2000, 20000, None), \n",
    "    'reduce': [PCA(), TruncatedSVD()],\n",
    "    'reduce__n_components': (2, 5, 25, 30),\n",
    "    'bgm__n_components': (6, 8, 10)\n",
    "             }"
   ]
  },
  {
   "cell_type": "code",
   "execution_count": 26,
   "metadata": {
    "collapsed": false
   },
   "outputs": [
    {
     "name": "stdout",
     "output_type": "stream",
     "text": [
      "Performing grid search...\n",
      "pipeline: ['tfidf', 'todense', 'reduce', 'bgm']\n",
      "parameters:\n",
      "{'bgm__n_components': (6, 8, 10),\n",
      " 'reduce': [PCA(copy=True, iterated_power='auto', n_components=None, random_state=None,\n",
      "  svd_solver='auto', tol=0.0, whiten=False),\n",
      "            TruncatedSVD(algorithm='randomized', n_components=2, n_iter=5,\n",
      "       random_state=None, tol=0.0)],\n",
      " 'reduce__n_components': (2, 5, 25, 30),\n",
      " 'tfidf__max_df': (0.3, 0.4, 1.0),\n",
      " 'tfidf__max_features': (200, 500, 2000, 20000, None)}\n",
      "Fitting 3 folds for each of 360 candidates, totalling 1080 fits\n"
     ]
    },
    {
     "name": "stderr",
     "output_type": "stream",
     "text": [
      "[Parallel(n_jobs=-1)]: Done  76 tasks      | elapsed:    2.8s\n",
      "[Parallel(n_jobs=-1)]: Done 376 tasks      | elapsed:   18.6s\n",
      "[Parallel(n_jobs=-1)]: Done 876 tasks      | elapsed:   45.6s\n"
     ]
    },
    {
     "name": "stdout",
     "output_type": "stream",
     "text": [
      "done in 59.983s\n",
      "\n",
      "Best score: 0.329\n",
      "Best parameters set:\n",
      "\tbgm__n_components: 10\n",
      "\treduce: PCA(copy=True, iterated_power='auto', n_components=5, random_state=None,\n",
      "  svd_solver='auto', tol=0.0, whiten=False)\n",
      "\treduce__n_components: 5\n",
      "\ttfidf__max_df: 0.4\n",
      "\ttfidf__max_features: 500\n"
     ]
    },
    {
     "name": "stderr",
     "output_type": "stream",
     "text": [
      "[Parallel(n_jobs=-1)]: Done 1080 out of 1080 | elapsed:   59.7s finished\n"
     ]
    }
   ],
   "source": [
    "verboseGridSearch(pipeline, parameters, docs, labels)"
   ]
  },
  {
   "cell_type": "markdown",
   "metadata": {},
   "source": [
    "# Test 2"
   ]
  },
  {
   "cell_type": "code",
   "execution_count": 27,
   "metadata": {
    "collapsed": false
   },
   "outputs": [],
   "source": [
    "parameters = {  \n",
    "#     'text__lenMin': (2000, 300\n",
    "#     'text__lenMax': (20000, 2000000),\n",
    "#     'tfidf__use_idf': (True, False), \n",
    "#     'tfidf__min_df': (0.0, 0.3, 0.4),\n",
    "    'tfidf__max_df': (0.3, 0.4, 1.0),\n",
    "    'tfidf__max_features': (200, 500, 2000, 20000, None), \n",
    "    'reduce': [PCA(), TruncatedSVD()],\n",
    "    'reduce__n_components': (2, 5, 25, 30),\n",
    "    'bgm': [BayesianGaussianMixture(), GaussianMixture()]\n",
    "    'bgm__n_components': (6, 8, 10)\n",
    "             }"
   ]
  },
  {
   "cell_type": "code",
   "execution_count": 26,
   "metadata": {
    "collapsed": false
   },
   "outputs": [
    {
     "name": "stdout",
     "output_type": "stream",
     "text": [
      "Performing grid search...\n",
      "pipeline: ['tfidf', 'todense', 'reduce', 'bgm']\n",
      "parameters:\n",
      "{'bgm__n_components': (6, 8, 10),\n",
      " 'reduce': [PCA(copy=True, iterated_power='auto', n_components=None, random_state=None,\n",
      "  svd_solver='auto', tol=0.0, whiten=False),\n",
      "            TruncatedSVD(algorithm='randomized', n_components=2, n_iter=5,\n",
      "       random_state=None, tol=0.0)],\n",
      " 'reduce__n_components': (2, 5, 25, 30),\n",
      " 'tfidf__max_df': (0.3, 0.4, 1.0),\n",
      " 'tfidf__max_features': (200, 500, 2000, 20000, None)}\n",
      "Fitting 3 folds for each of 360 candidates, totalling 1080 fits\n"
     ]
    },
    {
     "name": "stderr",
     "output_type": "stream",
     "text": [
      "[Parallel(n_jobs=-1)]: Done  76 tasks      | elapsed:    2.8s\n",
      "[Parallel(n_jobs=-1)]: Done 376 tasks      | elapsed:   18.6s\n",
      "[Parallel(n_jobs=-1)]: Done 876 tasks      | elapsed:   45.6s\n"
     ]
    },
    {
     "name": "stdout",
     "output_type": "stream",
     "text": [
      "done in 59.983s\n",
      "\n",
      "Best score: 0.329\n",
      "Best parameters set:\n",
      "\tbgm__n_components: 10\n",
      "\treduce: PCA(copy=True, iterated_power='auto', n_components=5, random_state=None,\n",
      "  svd_solver='auto', tol=0.0, whiten=False)\n",
      "\treduce__n_components: 5\n",
      "\ttfidf__max_df: 0.4\n",
      "\ttfidf__max_features: 500\n"
     ]
    },
    {
     "name": "stderr",
     "output_type": "stream",
     "text": [
      "[Parallel(n_jobs=-1)]: Done 1080 out of 1080 | elapsed:   59.7s finished\n"
     ]
    }
   ],
   "source": [
    "verboseGridSearch(pipeline, parameters, docs, labels)"
   ]
  },
  {
   "cell_type": "markdown",
   "metadata": {},
   "source": [
    "# Test 3"
   ]
  },
  {
   "cell_type": "code",
   "execution_count": 31,
   "metadata": {
    "collapsed": false
   },
   "outputs": [
    {
     "name": "stdout",
     "output_type": "stream",
     "text": [
      "Performing grid search...\n",
      "pipeline: ['tfidf', 'todense', 'reduce', 'bgm']\n",
      "parameters:\n",
      "{'bgm': [BayesianGaussianMixture(covariance_prior=None, covariance_type='full',\n",
      "            degrees_of_freedom_prior=None, init_params='kmeans',\n",
      "            max_iter=100, mean_precision_prior=None, mean_prior=None,\n",
      "            n_components=1, n_init=1, random_state=None, reg_covar=1e-06,\n",
      "            tol=0.001, verbose=0, verbose_interval=10, warm_start=False,\n",
      "            weight_concentration_prior=None,\n",
      "            weight_concentration_prior_type='dirichlet_process'),\n",
      "         GaussianMixture(covariance_type='full', init_params='kmeans', max_iter=100,\n",
      "        means_init=None, n_components=1, n_init=1, precisions_init=None,\n",
      "        random_state=None, reg_covar=1e-06, tol=0.001, verbose=0,\n",
      "        verbose_interval=10, warm_start=False, weights_init=None)],\n",
      " 'bgm__n_components': (6, 8, 10),\n",
      " 'reduce': [PCA(copy=True, iterated_power='auto', n_components=None, random_state=None,\n",
      "  svd_solver='auto', tol=0.0, whiten=False),\n",
      "            TruncatedSVD(algorithm='randomized', n_components=2, n_iter=5,\n",
      "       random_state=None, tol=0.0)],\n",
      " 'reduce__n_components': (2, 5, 25, 30),\n",
      " 'tfidf__max_df': (0.3, 0.4, 1.0),\n",
      " 'tfidf__max_features': (200, 500, 2000, 20000, None)}\n",
      "Fitting 3 folds for each of 720 candidates, totalling 2160 fits\n"
     ]
    },
    {
     "name": "stderr",
     "output_type": "stream",
     "text": [
      "[Parallel(n_jobs=-1)]: Done  76 tasks      | elapsed:    3.2s\n",
      "[Parallel(n_jobs=-1)]: Done 376 tasks      | elapsed:   15.3s\n",
      "[Parallel(n_jobs=-1)]: Done 876 tasks      | elapsed:   44.6s\n",
      "[Parallel(n_jobs=-1)]: Done 1576 tasks      | elapsed:  1.4min\n"
     ]
    },
    {
     "name": "stdout",
     "output_type": "stream",
     "text": [
      "done in 113.660s\n",
      "\n",
      "Best score: 0.397\n",
      "Best parameters set:\n",
      "\tbgm: GaussianMixture(covariance_type='full', init_params='kmeans', max_iter=100,\n",
      "        means_init=None, n_components=10, n_init=1, precisions_init=None,\n",
      "        random_state=None, reg_covar=1e-06, tol=0.001, verbose=0,\n",
      "        verbose_interval=10, warm_start=False, weights_init=None)\n",
      "\tbgm__n_components: 10\n",
      "\treduce: PCA(copy=True, iterated_power='auto', n_components=5, random_state=None,\n",
      "  svd_solver='auto', tol=0.0, whiten=False)\n",
      "\treduce__n_components: 5\n",
      "\ttfidf__max_df: 0.3\n",
      "\ttfidf__max_features: 200\n"
     ]
    },
    {
     "name": "stderr",
     "output_type": "stream",
     "text": [
      "[Parallel(n_jobs=-1)]: Done 2160 out of 2160 | elapsed:  1.9min finished\n"
     ]
    }
   ],
   "source": [
    "parameters = {  \n",
    "#     'text__lenMin': (2000, 300\n",
    "#     'text__lenMax': (20000, 2000000),\n",
    "#     'tfidf__use_idf': (True, False), \n",
    "#     'tfidf__min_df': (0.0, 0.3, 0.4),\n",
    "    'tfidf__max_df': (0.3, 0.4, 1.0),\n",
    "    'tfidf__max_features': (200, 500, 2000, 20000, None), \n",
    "    'reduce': [PCA(), TruncatedSVD()],\n",
    "    'reduce__n_components': (2, 5, 25, 30),\n",
    "    'bgm': [BayesianGaussianMixture(), GaussianMixture()],\n",
    "    'bgm__n_components': (6, 8, 10)\n",
    "             }\n",
    "verboseGridSearch(pipeline, parameters, docs, labels)"
   ]
  },
  {
   "cell_type": "markdown",
   "metadata": {},
   "source": [
    "# Test 4"
   ]
  },
  {
   "cell_type": "code",
   "execution_count": 32,
   "metadata": {
    "collapsed": false
   },
   "outputs": [],
   "source": [
    "pipeline = Pipeline([  \n",
    "#                          ('text', Text()), \n",
    "                         ('tfidf', TfidfVectorizer()),\n",
    "                         ('todense', DenseTransformer()),\n",
    "                         ('reduce', PCA()),\n",
    "#                          ('bgm', BayesianGaussianMixture()),\n",
    "                         ('kmeans', KMeans(n_clusters=6))\n",
    "                        ])"
   ]
  },
  {
   "cell_type": "code",
   "execution_count": 34,
   "metadata": {
    "collapsed": false
   },
   "outputs": [
    {
     "name": "stdout",
     "output_type": "stream",
     "text": [
      "Performing grid search...\n",
      "pipeline: ['tfidf', 'todense', 'reduce', 'kmeans']\n",
      "parameters:\n",
      "{'reduce': [PCA(copy=True, iterated_power='auto', n_components=None, random_state=None,\n",
      "  svd_solver='auto', tol=0.0, whiten=False),\n",
      "            TruncatedSVD(algorithm='randomized', n_components=2, n_iter=5,\n",
      "       random_state=None, tol=0.0)],\n",
      " 'reduce__n_components': (2, 5, 25, 30),\n",
      " 'tfidf__max_df': (0.3, 0.4, 1.0),\n",
      " 'tfidf__max_features': (200, 500, 2000, 20000, None)}\n",
      "Fitting 3 folds for each of 120 candidates, totalling 360 fits\n"
     ]
    },
    {
     "name": "stderr",
     "output_type": "stream",
     "text": [
      "[Parallel(n_jobs=-1)]: Done  76 tasks      | elapsed:    2.7s\n"
     ]
    },
    {
     "name": "stdout",
     "output_type": "stream",
     "text": [
      "done in 15.326s\n",
      "\n",
      "Best score: 0.300\n",
      "Best parameters set:\n",
      "\treduce: TruncatedSVD(algorithm='randomized', n_components=30, n_iter=5,\n",
      "       random_state=None, tol=0.0)\n",
      "\treduce__n_components: 30\n",
      "\ttfidf__max_df: 0.3\n",
      "\ttfidf__max_features: 2000\n"
     ]
    },
    {
     "name": "stderr",
     "output_type": "stream",
     "text": [
      "[Parallel(n_jobs=-1)]: Done 360 out of 360 | elapsed:   15.0s finished\n"
     ]
    }
   ],
   "source": [
    "parameters = {  \n",
    "#     'text__lenMin': (2000, 300\n",
    "#     'text__lenMax': (20000, 2000000),\n",
    "#     'tfidf__use_idf': (True, False), \n",
    "#     'tfidf__min_df': (0.0, 0.3, 0.4),\n",
    "    'tfidf__max_df': (0.3, 0.4, 1.0),\n",
    "    'tfidf__max_features': (200, 500, 2000, 20000, None), \n",
    "    'reduce': [PCA(), TruncatedSVD()],\n",
    "    'reduce__n_components': (2, 5, 25, 30),\n",
    "#     'bgm': [BayesianGaussianMixture(), GaussianMixture()],\n",
    "#     'bgm__n_components': (6, 8, 10)\n",
    "             }\n",
    "verboseGridSearch(pipeline, parameters, docs, labels)"
   ]
  },
  {
   "cell_type": "markdown",
   "metadata": {},
   "source": [
    "# Test 5\n"
   ]
  },
  {
   "cell_type": "code",
   "execution_count": 36,
   "metadata": {
    "collapsed": false
   },
   "outputs": [],
   "source": [
    "pipeline = Pipeline([  \n",
    "#                          ('text', Text()), \n",
    "                         ('tfidf', TfidfVectorizer()),\n",
    "                         ('todense', DenseTransformer()),\n",
    "                         ('reduce', PCA()),\n",
    "                         ('bgm', BayesianGaussianMixture()),\n",
    "#                          ('kmeans', KMeans(n_clusters=6))\n",
    "                        ])"
   ]
  },
  {
   "cell_type": "code",
   "execution_count": 37,
   "metadata": {
    "collapsed": false
   },
   "outputs": [
    {
     "name": "stdout",
     "output_type": "stream",
     "text": [
      "Performing grid search...\n",
      "pipeline: ['tfidf', 'todense', 'reduce', 'bgm']\n",
      "parameters:\n",
      "{'bgm': [BayesianGaussianMixture(covariance_prior=None, covariance_type='full',\n",
      "            degrees_of_freedom_prior=None, init_params='kmeans',\n",
      "            max_iter=100, mean_precision_prior=None, mean_prior=None,\n",
      "            n_components=1, n_init=1, random_state=None, reg_covar=1e-06,\n",
      "            tol=0.001, verbose=0, verbose_interval=10, warm_start=False,\n",
      "            weight_concentration_prior=None,\n",
      "            weight_concentration_prior_type='dirichlet_process'),\n",
      "         GaussianMixture(covariance_type='full', init_params='kmeans', max_iter=100,\n",
      "        means_init=None, n_components=1, n_init=1, precisions_init=None,\n",
      "        random_state=None, reg_covar=1e-06, tol=0.001, verbose=0,\n",
      "        verbose_interval=10, warm_start=False, weights_init=None)],\n",
      " 'bgm__n_components': (2, 6, 8, 10),\n",
      " 'reduce': [PCA(copy=True, iterated_power='auto', n_components=None, random_state=None,\n",
      "  svd_solver='auto', tol=0.0, whiten=False),\n",
      "            TruncatedSVD(algorithm='randomized', n_components=2, n_iter=5,\n",
      "       random_state=None, tol=0.0)],\n",
      " 'reduce__n_components': (2, 5, 25, 30, 50),\n",
      " 'tfidf__max_df': (0.3, 0.4, 1.0),\n",
      " 'tfidf__max_features': (100, 200, 500, 2000, None)}\n",
      "Fitting 3 folds for each of 1200 candidates, totalling 3600 fits\n"
     ]
    },
    {
     "name": "stderr",
     "output_type": "stream",
     "text": [
      "[Parallel(n_jobs=-1)]: Done  76 tasks      | elapsed:    2.5s\n",
      "[Parallel(n_jobs=-1)]: Done 376 tasks      | elapsed:   13.5s\n",
      "[Parallel(n_jobs=-1)]: Done 876 tasks      | elapsed:   38.4s\n",
      "[Parallel(n_jobs=-1)]: Done 1576 tasks      | elapsed:  1.2min\n",
      "[Parallel(n_jobs=-1)]: Done 2476 tasks      | elapsed:  2.0min\n",
      "[Parallel(n_jobs=-1)]: Done 3576 tasks      | elapsed:  2.9min\n"
     ]
    },
    {
     "name": "stdout",
     "output_type": "stream",
     "text": [
      "done in 176.395s\n",
      "\n",
      "Best score: 0.397\n",
      "Best parameters set:\n",
      "\tbgm: GaussianMixture(covariance_type='full', init_params='kmeans', max_iter=100,\n",
      "        means_init=None, n_components=10, n_init=1, precisions_init=None,\n",
      "        random_state=None, reg_covar=1e-06, tol=0.001, verbose=0,\n",
      "        verbose_interval=10, warm_start=False, weights_init=None)\n",
      "\tbgm__n_components: 10\n",
      "\treduce: PCA(copy=True, iterated_power='auto', n_components=5, random_state=None,\n",
      "  svd_solver='auto', tol=0.0, whiten=False)\n",
      "\treduce__n_components: 5\n",
      "\ttfidf__max_df: 0.3\n",
      "\ttfidf__max_features: 200\n"
     ]
    },
    {
     "name": "stderr",
     "output_type": "stream",
     "text": [
      "[Parallel(n_jobs=-1)]: Done 3600 out of 3600 | elapsed:  2.9min finished\n"
     ]
    }
   ],
   "source": [
    "parameters = {  \n",
    "#     'text__lenMin': (2000, 300\n",
    "#     'text__lenMax': (20000, 2000000),\n",
    "#     'tfidf__use_idf': (True, False), \n",
    "#     'tfidf__min_df': (0.0, 0.3, 0.4),\n",
    "    'tfidf__max_df': (0.3, 0.4, 1.0),\n",
    "    'tfidf__max_features': (100, 200, 500, 2000, None), \n",
    "    'reduce': [PCA(), TruncatedSVD()],\n",
    "    'reduce__n_components': (2, 5, 25, 30, 50),\n",
    "    'bgm': [BayesianGaussianMixture(), GaussianMixture()],\n",
    "    'bgm__n_components': (2, 6, 8, 10)\n",
    "             }\n",
    "verboseGridSearch(pipeline, parameters, docs, labels)"
   ]
  },
  {
   "cell_type": "code",
   "execution_count": null,
   "metadata": {
    "collapsed": true
   },
   "outputs": [],
   "source": []
  }
 ],
 "metadata": {
  "kernelspec": {
   "display_name": "Python 3",
   "language": "python",
   "name": "python3"
  },
  "language_info": {
   "codemirror_mode": {
    "name": "ipython",
    "version": 3
   },
   "file_extension": ".py",
   "mimetype": "text/x-python",
   "name": "python",
   "nbconvert_exporter": "python",
   "pygments_lexer": "ipython3",
   "version": "3.5.2"
  }
 },
 "nbformat": 4,
 "nbformat_minor": 1
}
