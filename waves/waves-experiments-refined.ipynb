{
 "cells": [
  {
   "cell_type": "code",
   "execution_count": 4,
   "metadata": {
    "collapsed": false
   },
   "outputs": [],
   "source": [
    "from lxml import etree\n",
    "import re\n",
    "import math\n",
    "import numpy as np\n",
    "import pandas as pd\n",
    "from pprint import pprint\n",
    "from time import time\n",
    "from sklearn import metrics\n",
    "from sklearn.feature_extraction.text import TfidfVectorizer, CountVectorizer\n",
    "from sklearn.feature_extraction.text import TfidfTransformer\n",
    "from sklearn.base import BaseEstimator, TransformerMixin\n",
    "from sklearn.cluster import DBSCAN\n",
    "from sklearn.decomposition import TruncatedSVD, PCA, NMF\n",
    "from sklearn.preprocessing import Normalizer\n",
    "from sklearn.pipeline import Pipeline\n",
    "from sklearn.mixture import BayesianGaussianMixture, GaussianMixture\n",
    "from sklearn.model_selection import GridSearchCV\n",
    "from sklearn import metrics\n",
    "from matplotlib import pyplot as plt\n",
    "from sklearn.cluster import KMeans, MiniBatchKMeans\n",
    "%matplotlib inline\n",
    "plt.style.use('ggplot')"
   ]
  },
  {
   "cell_type": "code",
   "execution_count": 5,
   "metadata": {
    "collapsed": false
   },
   "outputs": [],
   "source": [
    "class Text(BaseEstimator, TransformerMixin): \n",
    "    def __init__(self, lenMin=2000, lenMax=10000, chunks=False): \n",
    "        self.lenMin = lenMin\n",
    "        self.lenMax = lenMax\n",
    "        self.chunks=chunks\n",
    "        \n",
    "    def fit(self, *_):\n",
    "#         print('heyo! fitting')\n",
    "        return self\n",
    "\n",
    "    def transform(self, filename): \n",
    "#         print('heyo! transforming')\n",
    "        lenMin, lenMax = self.lenMin, self.lenMax\n",
    "        self.tree = etree.parse(filename)\n",
    "        self.allSaidElems = self.tree.findall('.//said[@who]')\n",
    "        # Only get those in our length range\n",
    "        self.saidElems = [elem for elem in self.allSaidElems if len(elem.text)>lenMin and len(elem.text)<lenMax]\n",
    "        self.allChars = [elem.attrib['who'] for elem in self.saidElems]\n",
    "        self.chars = list(set(self.allChars))\n",
    "        self.labeledText = [(elem.attrib['who'], elem.text) for elem in self.saidElems]\n",
    "        self.labeledText = [(item[0], self.clean(item[1])) for item in self.labeledText]\n",
    "        self.labels = [item[0] for item in self.labeledText]\n",
    "        charDict = {'Bernard': 0, 'Louis': 1, 'Neville': 2,\n",
    "                'Rhoda': 3, 'Jinny': 4, 'Susan': 5}\n",
    "        self.numericLabels = [charDict[label] for label in self.labels]\n",
    "        self.allText = [item[1] for item in self.labeledText]\n",
    "        self.charDict = self.makeCharDict()\n",
    "        self.charChunks, self.charChunksLabels = self.makeCharChunks()\n",
    "        if self.chunks: \n",
    "            self.allText = self.charChunks\n",
    "            self.labels = self.charChunksLabels\n",
    "            self.numericLabels = [charDict[label.split('-')[0]] for label in self.labels]\n",
    "        self.lengths = [len(item) for item in self.allText]\n",
    "        return self.allText\n",
    "        \n",
    "    def makeCharDict(self): \n",
    "        \"\"\" Make a dictionary of each character's total speech. \"\"\"\n",
    "        # Initialize empty dictionary. \n",
    "        charDict = {char: \"\" for char in self.chars}\n",
    "        for elem in self.allSaidElems: \n",
    "            charDict[elem.attrib['who']]+=self.clean(elem.text)\n",
    "        return charDict\n",
    "            \n",
    "    def makeCharChunks(self, n=2): \n",
    "        \"\"\" Make a list of chunks of character speech. \"\"\"\n",
    "        charChunks = []\n",
    "        charChunksLabels = []\n",
    "        for char, text in self.charDict.items(): \n",
    "            chunks = self.sliceText(text)\n",
    "            for i, chunk in enumerate(chunks): \n",
    "                charChunks.append(chunk)\n",
    "                charChunksLabels.append(char + '-%s' % i)\n",
    "        return charChunks, charChunksLabels\n",
    "        \n",
    "    def sliceText(self, text, size=8000):\n",
    "        parts = []\n",
    "        while len(text) > size: \n",
    "            part = text[:size]\n",
    "            text = text[size:]\n",
    "            parts.append(part)\n",
    "        return parts\n",
    "\n",
    "    def clean(self, utterance): \n",
    "        \"\"\" \n",
    "        Cleans utterances. \n",
    "        \"\"\"\n",
    "        # Remove \"said Bernard,\" etc. \n",
    "        charRegex = \"said (%s)\" % '|'.join(self.chars)\n",
    "        out = re.sub(charRegex, '', utterance)\n",
    "       \n",
    "        # Remove quotation marks. \n",
    "        out = re.sub('[“”\"]', '', out)\n",
    "        \n",
    "        # Remove line breaks. \n",
    "        out = re.sub('\\n', ' ', out)\n",
    "        return out"
   ]
  },
  {
   "cell_type": "code",
   "execution_count": 89,
   "metadata": {
    "collapsed": false
   },
   "outputs": [],
   "source": [
    "# Code adapted from http://stackoverflow.com/a/28384887/584121\n",
    "class DenseTransformer(TransformerMixin):\n",
    "    \n",
    "    def __init__(self, *args, **kwargs): \n",
    "        return\n",
    "\n",
    "    def get_params(self, deep=True): \n",
    "        \"\"\" Dummy method. \"\"\"\n",
    "        return {'None': 'None'}\n",
    "    \n",
    "    def transform(self, X, y=None, **fit_params):\n",
    "        return X.todense()\n",
    "\n",
    "    def fit_transform(self, X, y=None, **fit_params):\n",
    "        self.fit(X, y, **fit_params)\n",
    "        return self.transform(X)\n",
    "\n",
    "    def fit(self, X, y=None, **fit_params):\n",
    "        return self"
   ]
  },
  {
   "cell_type": "code",
   "execution_count": 90,
   "metadata": {
    "collapsed": false
   },
   "outputs": [],
   "source": [
    "transformPipeline = Pipeline([    \n",
    "                         ('tfidf', TfidfVectorizer(max_df=0.3,\n",
    "                                                  max_features=500)),\n",
    "                         ('todense', DenseTransformer()),\n",
    "                         ('pca', PCA(n_components=5)),\n",
    "#                          ('gmm', GaussianMixture(n_components=6)),\n",
    "                        ])"
   ]
  },
  {
   "cell_type": "code",
   "execution_count": 91,
   "metadata": {
    "collapsed": false
   },
   "outputs": [
    {
     "data": {
      "text/plain": [
       "<matplotlib.axes._subplots.AxesSubplot at 0x7f08605c8eb8>"
      ]
     },
     "execution_count": 91,
     "metadata": {},
     "output_type": "execute_result"
    },
    {
     "data": {
      "image/png": "[encoded data removed]",
      "text/plain": [
       "<matplotlib.figure.Figure at 0x7f086070de80>"
      ]
     },
     "metadata": {},
     "output_type": "display_data"
    }
   ],
   "source": [
    "text = Text(lenMin=4000, lenMax=20000).fit()\n",
    "docs = text.transform('waves-tei.xml')\n",
    "labels = text.numericLabels\n",
    "pd.Series([len(doc) for doc in docs]).hist()"
   ]
  },
  {
   "cell_type": "code",
   "execution_count": 92,
   "metadata": {
    "collapsed": false
   },
   "outputs": [
    {
     "data": {
      "text/plain": [
       "(19, 5)"
      ]
     },
     "execution_count": 92,
     "metadata": {},
     "output_type": "execute_result"
    }
   ],
   "source": [
    "transformed = transformPipeline.fit_transform(docs)\n",
    "transformed.shape"
   ]
  },
  {
   "cell_type": "code",
   "execution_count": 93,
   "metadata": {
    "collapsed": false
   },
   "outputs": [
    {
     "data": {
      "text/plain": [
       "array([3, 3, 2, 4, 4, 3, 1, 0, 2, 4, 0, 1, 3, 2, 5, 1, 2, 0, 5])"
      ]
     },
     "execution_count": 93,
     "metadata": {},
     "output_type": "execute_result"
    }
   ],
   "source": [
    "gmm = GaussianMixture(n_components=6).fit(transformed)\n",
    "assignments = gmm.predict(transformed)\n",
    "assignments"
   ]
  },
  {
   "cell_type": "code",
   "execution_count": 94,
   "metadata": {
    "collapsed": false
   },
   "outputs": [
    {
     "data": {
      "text/plain": [
       "0.46266646715546905"
      ]
     },
     "execution_count": 94,
     "metadata": {},
     "output_type": "execute_result"
    }
   ],
   "source": [
    "metrics.adjusted_rand_score(assignments, labels)"
   ]
  },
  {
   "cell_type": "code",
   "execution_count": 95,
   "metadata": {
    "collapsed": false
   },
   "outputs": [
    {
     "data": {
      "text/plain": [
       "0.48434960488890633"
      ]
     },
     "execution_count": 95,
     "metadata": {},
     "output_type": "execute_result"
    }
   ],
   "source": [
    "metrics.adjusted_mutual_info_score(assignments, labels)"
   ]
  },
  {
   "cell_type": "code",
   "execution_count": 96,
   "metadata": {
    "collapsed": true
   },
   "outputs": [],
   "source": [
    "def translateNumColor(colorList): \n",
    "    colorDict = 'rgbcymk'\n",
    "    return [colorDict[numColor] for numColor in colorList]    "
   ]
  },
  {
   "cell_type": "code",
   "execution_count": 2,
   "metadata": {
    "collapsed": false
   },
   "outputs": [
    {
     "ename": "NameError",
     "evalue": "name 'plt' is not defined",
     "output_type": "error",
     "traceback": [
      "\u001b[0;31m---------------------------------------------------------------------------\u001b[0m",
      "\u001b[0;31mNameError\u001b[0m                                 Traceback (most recent call last)",
      "\u001b[0;32m<ipython-input-2-18ee089a67b8>\u001b[0m in \u001b[0;36m<module>\u001b[0;34m()\u001b[0m\n\u001b[0;32m----> 1\u001b[0;31m plt.scatter(transformed[:,0], transformed[:,1], \n\u001b[0m\u001b[1;32m      2\u001b[0m             c=translateNumColor(labels))\n",
      "\u001b[0;31mNameError\u001b[0m: name 'plt' is not defined"
     ]
    }
   ],
   "source": [
    "plt.scatter(transformed[:,0], transformed[:,1], \n",
    "            c=translateNumColor(labels))"
   ]
  },
  {
   "cell_type": "code",
   "execution_count": 98,
   "metadata": {
    "collapsed": false
   },
   "outputs": [
    {
     "data": {
      "text/plain": [
       "<matplotlib.collections.PathCollection at 0x7f0860a20668>"
      ]
     },
     "execution_count": 98,
     "metadata": {},
     "output_type": "execute_result"
    },
    {
     "data": {
      "image/png": "[encoded data removed]",
      "text/plain": [
       "<matplotlib.figure.Figure at 0x7f0860a9cc50>"
      ]
     },
     "metadata": {},
     "output_type": "display_data"
    }
   ],
   "source": [
    "plt.scatter(transformed[:,0], transformed[:,1], \n",
    "            c=translateNumColor(assignments))"
   ]
  }
 ],
 "metadata": {
  "kernelspec": {
   "display_name": "Python 3",
   "language": "python",
   "name": "python3"
  },
  "language_info": {
   "codemirror_mode": {
    "name": "ipython",
    "version": 3
   },
   "file_extension": ".py",
   "mimetype": "text/x-python",
   "name": "python",
   "nbconvert_exporter": "python",
   "pygments_lexer": "ipython3",
   "version": "3.5.2"
  }
 },
 "nbformat": 4,
 "nbformat_minor": 1
}
