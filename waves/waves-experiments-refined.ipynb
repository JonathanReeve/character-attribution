{
 "cells": [
  {
   "cell_type": "code",
   "execution_count": 139,
   "metadata": {
    "collapsed": false
   },
   "outputs": [],
   "source": [
    "from lxml import etree\n",
    "import re\n",
    "import math\n",
    "import numpy as np\n",
    "import pandas as pd\n",
    "from pprint import pprint\n",
    "from time import time\n",
    "from sklearn import metrics\n",
    "from sklearn.feature_extraction.text import TfidfVectorizer, CountVectorizer\n",
    "from sklearn.feature_extraction.text import TfidfTransformer\n",
    "from sklearn.base import BaseEstimator, TransformerMixin\n",
    "from sklearn.cluster import DBSCAN\n",
    "from sklearn.decomposition import TruncatedSVD, PCA, NMF\n",
    "from sklearn.preprocessing import Normalizer\n",
    "from sklearn.pipeline import Pipeline\n",
    "from sklearn.mixture import BayesianGaussianMixture, GaussianMixture\n",
    "from sklearn.model_selection import GridSearchCV\n",
    "from sklearn import metrics\n",
    "from matplotlib import pyplot as plt\n",
    "import matplotlib.patches as mpatches\n",
    "from sklearn.cluster import KMeans, MiniBatchKMeans\n",
    "%matplotlib inline\n",
    "plt.style.use('ggplot')"
   ]
  },
  {
   "cell_type": "code",
   "execution_count": 358,
   "metadata": {
    "collapsed": false
   },
   "outputs": [],
   "source": [
    "class Text(BaseEstimator, TransformerMixin): \n",
    "    def __init__(self, lenMin=2000, lenMax=10000, chunks=False, cutoff=None): \n",
    "        self.lenMin = lenMin\n",
    "        self.lenMax = lenMax\n",
    "        self.chunks=chunks\n",
    "        self.cutoff=cutoff\n",
    "        \n",
    "    def fit(self, *_):\n",
    "#         print('heyo! fitting')\n",
    "        return self\n",
    "\n",
    "    def transform(self, filename): \n",
    "#         print('heyo! transforming')\n",
    "        lenMin, lenMax = self.lenMin, self.lenMax\n",
    "        self.tree = etree.parse(filename)\n",
    "        self.allSaidElems = self.tree.findall('.//said[@who]')\n",
    "        # Only get those in our length range\n",
    "        self.saidElems = [elem for elem in self.allSaidElems if len(elem.text)>lenMin and len(elem.text)<lenMax]\n",
    "        self.allChars = [elem.attrib['who'] for elem in self.saidElems]\n",
    "        self.chars = list(set(self.allChars))\n",
    "        self.labeledText = [(elem.attrib['who'], elem.text) for elem in self.saidElems]\n",
    "        self.labeledText = [(item[0], self.clean(item[1])) for item in self.labeledText]\n",
    "        self.labels = [item[0] for item in self.labeledText]\n",
    "        charDict = {'Bernard': 0, 'Louis': 1, 'Neville': 2,\n",
    "                'Rhoda': 3, 'Jinny': 4, 'Susan': 5}\n",
    "        self.numericLabels = [charDict[label] for label in self.labels]\n",
    "        self.allText = [item[1] for item in self.labeledText]\n",
    "        self.charDict = self.makeCharDict()\n",
    "        self.charChunks, self.charChunksLabels = self.makeCharChunks()\n",
    "        if self.chunks: \n",
    "            self.allText = self.charChunks\n",
    "            self.labels = self.charChunksLabels\n",
    "            self.numericLabels = [charDict[label.split('-')[0]] for label in self.labels]\n",
    "        if self.cutoff is not None: \n",
    "            self.allText = [doc[:self.cutoff] for doc in self.allText]\n",
    "        self.lengths = [len(item) for item in self.allText]\n",
    "        return self.allText\n",
    "        \n",
    "    def makeCharDict(self): \n",
    "        \"\"\" Make a dictionary of each character's total speech. \"\"\"\n",
    "        # Initialize empty dictionary. \n",
    "        charDict = {char: \"\" for char in self.chars}\n",
    "        for elem in self.allSaidElems: \n",
    "            charDict[elem.attrib['who']]+=self.clean(elem.text)\n",
    "        return charDict\n",
    "            \n",
    "    def makeCharChunks(self, n=2): \n",
    "        \"\"\" Make a list of chunks of character speech. \"\"\"\n",
    "        charChunks = []\n",
    "        charChunksLabels = []\n",
    "        for char, text in self.charDict.items(): \n",
    "            chunks = self.sliceText(text)\n",
    "            for i, chunk in enumerate(chunks): \n",
    "                charChunks.append(chunk)\n",
    "                charChunksLabels.append(char + '-%s' % i)\n",
    "        return charChunks, charChunksLabels\n",
    "        \n",
    "    def sliceText(self, text, size=8000):\n",
    "        parts = []\n",
    "        while len(text) > size: \n",
    "            part = text[:size]\n",
    "            text = text[size:]\n",
    "            parts.append(part)\n",
    "        return parts\n",
    "\n",
    "    def clean(self, utterance): \n",
    "        \"\"\" \n",
    "        Cleans utterances. \n",
    "        \"\"\"\n",
    "        # Remove \"said Bernard,\" etc. \n",
    "        charRegex = \"said (%s)\" % '|'.join(self.chars)\n",
    "        out = re.sub(charRegex, '', utterance)\n",
    "       \n",
    "        # Remove quotation marks. \n",
    "        out = re.sub('[“”\"]', '', out)\n",
    "        \n",
    "        # Remove line breaks. \n",
    "        out = re.sub('\\n', ' ', out)\n",
    "        return out"
   ]
  },
  {
   "cell_type": "code",
   "execution_count": 359,
   "metadata": {
    "collapsed": false
   },
   "outputs": [],
   "source": [
    "# Code adapted from http://stackoverflow.com/a/28384887/584121\n",
    "class DenseTransformer(TransformerMixin):\n",
    "    \n",
    "    def __init__(self, *args, **kwargs): \n",
    "        return\n",
    "\n",
    "    def get_params(self, deep=True): \n",
    "        \"\"\" Dummy method. \"\"\"\n",
    "        return {'None': 'None'}\n",
    "    \n",
    "    def transform(self, X, y=None, **fit_params):\n",
    "        return X.todense()\n",
    "\n",
    "    def fit_transform(self, X, y=None, **fit_params):\n",
    "        self.fit(X, y, **fit_params)\n",
    "        return self.transform(X)\n",
    "\n",
    "    def fit(self, X, y=None, **fit_params):\n",
    "        return self"
   ]
  },
  {
   "cell_type": "code",
   "execution_count": 360,
   "metadata": {
    "collapsed": true
   },
   "outputs": [],
   "source": [
    "def translateNumColor(colorList): \n",
    "    colorDict = 'rgbcymk'\n",
    "    return [colorDict[numColor] for numColor in colorList]    "
   ]
  },
  {
   "cell_type": "code",
   "execution_count": 385,
   "metadata": {
    "collapsed": false,
    "scrolled": true
   },
   "outputs": [],
   "source": [
    "text = Text(lenMin=4000, lenMax=20000).fit()\n",
    "docs = text.transform('waves-tei.xml')\n",
    "labels = text.numericLabels\n",
    "wordLabels = text.labels\n",
    "lengths = pd.Series([len(doc) for doc in docs])"
   ]
  },
  {
   "cell_type": "code",
   "execution_count": 386,
   "metadata": {
    "collapsed": false
   },
   "outputs": [
    {
     "data": {
      "text/plain": [
       "<matplotlib.axes._subplots.AxesSubplot at 0x7f44bc2a4f60>"
      ]
     },
     "execution_count": 386,
     "metadata": {},
     "output_type": "execute_result"
    },
    {
     "data": {
      "image/png": "[encoded data removed]",
      "text/plain": [
       "<matplotlib.figure.Figure at 0x7f44bc270fd0>"
      ]
     },
     "metadata": {},
     "output_type": "display_data"
    }
   ],
   "source": [
    "lengths.hist()"
   ]
  },
  {
   "cell_type": "code",
   "execution_count": 375,
   "metadata": {
    "collapsed": false
   },
   "outputs": [
    {
     "data": {
      "text/plain": [
       "16"
      ]
     },
     "execution_count": 375,
     "metadata": {},
     "output_type": "execute_result"
    }
   ],
   "source": [
    "len(docs)"
   ]
  },
  {
   "cell_type": "code",
   "execution_count": 376,
   "metadata": {
    "collapsed": false
   },
   "outputs": [],
   "source": [
    "transformPipeline = Pipeline([    \n",
    "                         ('tfidf', TfidfVectorizer(max_df=0.3, max_features=500)),\n",
    "                         ('todense', DenseTransformer()),\n",
    "                         ('pca', PCA(n_components=5)),\n",
    "#                          ('gmm', GaussianMixture(n_components=6)),\n",
    "                        ])"
   ]
  },
  {
   "cell_type": "code",
   "execution_count": 377,
   "metadata": {
    "collapsed": false
   },
   "outputs": [
    {
     "data": {
      "text/plain": [
       "(16, 5)"
      ]
     },
     "execution_count": 377,
     "metadata": {},
     "output_type": "execute_result"
    }
   ],
   "source": [
    "transformed = transformPipeline.fit_transform(docs)\n",
    "transformed.shape"
   ]
  },
  {
   "cell_type": "code",
   "execution_count": 378,
   "metadata": {
    "collapsed": true
   },
   "outputs": [],
   "source": [
    "ars_history = []\n",
    "amis_history = []"
   ]
  },
  {
   "cell_type": "code",
   "execution_count": 379,
   "metadata": {
    "collapsed": false
   },
   "outputs": [],
   "source": [
    "def bgmIterate(transformed): \n",
    "    gmm = GaussianMixture(n_components=6).fit(transformed)\n",
    "#     bgm = BayesianGaussianMixture(n_components=6).fit(transformed)\n",
    "    assignments = gmm.predict(transformed)\n",
    "    ars = metrics.adjusted_rand_score(assignments, labels)\n",
    "    print(ars)\n",
    "    ars_history.append(ars)\n",
    "    amis = metrics.adjusted_mutual_info_score(assignments, labels)\n",
    "    print(amis)\n",
    "    amis_history.append(amis)"
   ]
  },
  {
   "cell_type": "code",
   "execution_count": 380,
   "metadata": {
    "collapsed": false
   },
   "outputs": [
    {
     "name": "stdout",
     "output_type": "stream",
     "text": [
      "0.221556886228\n",
      "0.260286894955\n",
      "0.175991861648\n",
      "0.235863984311\n",
      "0.281437125749\n",
      "0.355673592033\n",
      "0.175991861648\n",
      "0.233171198175\n",
      "0.190871369295\n",
      "0.24448950637\n",
      "0.142857142857\n",
      "0.162362033419\n",
      "0.175991861648\n",
      "0.235863984311\n",
      "0.42014242116\n",
      "0.492940139782\n",
      "0.175991861648\n",
      "0.235863984311\n",
      "0.190871369295\n",
      "0.24448950637\n",
      "0.333333333333\n",
      "0.38042652255\n",
      "0.333333333333\n",
      "0.38042652255\n",
      "0.190871369295\n",
      "0.24448950637\n",
      "0.175991861648\n",
      "0.235863984311\n",
      "0.175991861648\n",
      "0.235863984311\n",
      "0.269841269841\n",
      "0.288704272957\n",
      "0.175991861648\n",
      "0.235863984311\n",
      "0.190871369295\n",
      "0.24448950637\n",
      "0.175991861648\n",
      "0.235863984311\n",
      "0.221556886228\n",
      "0.260286894955\n"
     ]
    }
   ],
   "source": [
    "for i in range(20): \n",
    "    bgmIterate(transformed)"
   ]
  },
  {
   "cell_type": "code",
   "execution_count": 381,
   "metadata": {
    "collapsed": false
   },
   "outputs": [
    {
     "data": {
      "text/plain": [
       "count    20.000000\n",
       "mean      0.272164\n",
       "std       0.074543\n",
       "min       0.162362\n",
       "25%       0.235864\n",
       "50%       0.244490\n",
       "75%       0.267391\n",
       "max       0.492940\n",
       "dtype: float64"
      ]
     },
     "execution_count": 381,
     "metadata": {},
     "output_type": "execute_result"
    }
   ],
   "source": [
    "pd.Series(amis_history).describe()"
   ]
  },
  {
   "cell_type": "code",
   "execution_count": 387,
   "metadata": {
    "collapsed": false
   },
   "outputs": [
    {
     "data": {
      "text/plain": [
       "count    20.000000\n",
       "mean      0.219774\n",
       "std       0.071395\n",
       "min       0.142857\n",
       "25%       0.175992\n",
       "50%       0.190871\n",
       "75%       0.233628\n",
       "max       0.420142\n",
       "dtype: float64"
      ]
     },
     "execution_count": 387,
     "metadata": {},
     "output_type": "execute_result"
    }
   ],
   "source": [
    "pd.Series(ars_history).describe()"
   ]
  },
  {
   "cell_type": "code",
   "execution_count": 383,
   "metadata": {
    "collapsed": false
   },
   "outputs": [
    {
     "data": {
      "text/plain": [
       "<matplotlib.legend.Legend at 0x7f4448988828>"
      ]
     },
     "execution_count": 383,
     "metadata": {},
     "output_type": "execute_result"
    },
    {
     "data": {
      "image/png": "[encoded data removed]",
      "text/plain": [
       "<matplotlib.figure.Figure at 0x7f4448988a20>"
      ]
     },
     "metadata": {},
     "output_type": "display_data"
    }
   ],
   "source": [
    "plt.scatter(transformed[:,0], transformed[:,1], \n",
    "            c=translateNumColor(labels), s=50)\n",
    "\n",
    "    # Build legend\n",
    "colorLabelAssociations = list(set(list(zip(labels, wordLabels, translateNumColor(labels)))))\n",
    "legends = [mpatches.Patch(color=assoc[2], label=assoc[1])\n",
    "          for assoc in colorLabelAssociations]\n",
    "plt.legend(handles=legends, loc='upper right', fontsize='small')"
   ]
  },
  {
   "cell_type": "code",
   "execution_count": 384,
   "metadata": {
    "collapsed": false
   },
   "outputs": [
    {
     "data": {
      "text/plain": [
       "<matplotlib.collections.PathCollection at 0x7f443ccea828>"
      ]
     },
     "execution_count": 384,
     "metadata": {},
     "output_type": "execute_result"
    },
    {
     "data": {
      "image/png": "[encoded data removed]",
      "text/plain": [
       "<matplotlib.figure.Figure at 0x7f44bc27a470>"
      ]
     },
     "metadata": {},
     "output_type": "display_data"
    }
   ],
   "source": [
    "plt.scatter(transformed[:,0], transformed[:,1], \n",
    "            c=translateNumColor(assignments), s=50)"
   ]
  },
  {
   "cell_type": "code",
   "execution_count": null,
   "metadata": {
    "collapsed": true
   },
   "outputs": [],
   "source": []
  }
 ],
 "metadata": {
  "kernelspec": {
   "display_name": "Python 3",
   "language": "python",
   "name": "python3"
  },
  "language_info": {
   "codemirror_mode": {
    "name": "ipython",
    "version": 3
   },
   "file_extension": ".py",
   "mimetype": "text/x-python",
   "name": "python",
   "nbconvert_exporter": "python",
   "pygments_lexer": "ipython3",
   "version": "3.5.2"
  }
 },
 "nbformat": 4,
 "nbformat_minor": 1
}
