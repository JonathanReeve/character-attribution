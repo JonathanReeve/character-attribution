{
 "cells": [
  {
   "cell_type": "code",
   "execution_count": 1,
   "metadata": {
    "collapsed": false
   },
   "outputs": [],
   "source": [
    "from lxml import etree\n",
    "import re\n",
    "import math\n",
    "import numpy as np\n",
    "import pandas as pd\n",
    "from pprint import pprint\n",
    "from time import time\n",
    "from sklearn import metrics\n",
    "from sklearn.feature_extraction.text import TfidfVectorizer, CountVectorizer\n",
    "from sklearn.feature_extraction.text import TfidfTransformer\n",
    "from sklearn.base import BaseEstimator, TransformerMixin\n",
    "from sklearn.cluster import DBSCAN\n",
    "from sklearn.decomposition import TruncatedSVD, PCA\n",
    "from sklearn.preprocessing import Normalizer\n",
    "from sklearn.pipeline import Pipeline\n",
    "from sklearn.mixture import BayesianGaussianMixture\n",
    "from sklearn.model_selection import GridSearchCV\n",
    "from sklearn import metrics\n",
    "from matplotlib import pyplot as plt\n",
    "from sklearn.cluster import KMeans, MiniBatchKMeans\n",
    "%matplotlib inline"
   ]
  },
  {
   "cell_type": "code",
   "execution_count": 2,
   "metadata": {
    "collapsed": false
   },
   "outputs": [],
   "source": [
    "class Text(BaseEstimator, TransformerMixin): \n",
    "    def __init__(self, lenMin=2000, lenMax=10000, chunks=False): \n",
    "        self.lenMin = lenMin\n",
    "        self.lenMax = lenMax\n",
    "        self.chunks=chunks\n",
    "        \n",
    "    def fit(self, *_):\n",
    "        print('heyo! fitting')\n",
    "        return self\n",
    "\n",
    "    def transform(self, filename): \n",
    "        print('heyo! transforming')\n",
    "        lenMin, lenMax = self.lenMin, self.lenMax\n",
    "        self.tree = etree.parse(filename)\n",
    "        self.allSaidElems = self.tree.findall('.//said[@who]')\n",
    "        # Only get those in our length range\n",
    "        self.saidElems = [elem for elem in self.allSaidElems if len(elem.text)>lenMin and len(elem.text)<lenMax]\n",
    "        self.allChars = [elem.attrib['who'] for elem in self.saidElems]\n",
    "        self.chars = list(set(self.allChars))\n",
    "        self.labeledText = [(elem.attrib['who'], elem.text) for elem in self.saidElems]\n",
    "        self.labeledText = [(item[0], self.clean(item[1])) for item in self.labeledText]\n",
    "        self.labels = [item[0] for item in self.labeledText]\n",
    "        charDict = {'Bernard': 0, 'Louis': 1, 'Neville': 2,\n",
    "                'Rhoda': 3, 'Jinny': 4, 'Susan': 5}\n",
    "        self.numericLabels = [charDict[label] for label in self.labels]\n",
    "        self.allText = [item[1] for item in self.labeledText]\n",
    "        self.charDict = self.makeCharDict()\n",
    "        self.charChunks, self.charChunksLabels = self.makeCharChunks()\n",
    "        if self.chunks: \n",
    "            self.allText = self.charChunks\n",
    "            self.labels = self.charChunksLabels\n",
    "            self.numericLabels = [charDict[label.split('-')[0]] for label in self.labels]\n",
    "        self.lengths = [len(item) for item in self.allText]\n",
    "        return self.allText\n",
    "        \n",
    "    def makeCharDict(self): \n",
    "        \"\"\" Make a dictionary of each character's total speech. \"\"\"\n",
    "        # Initialize empty dictionary. \n",
    "        charDict = {char: \"\" for char in self.chars}\n",
    "        for elem in self.allSaidElems: \n",
    "            charDict[elem.attrib['who']]+=self.clean(elem.text)\n",
    "        return charDict\n",
    "            \n",
    "    def makeCharChunks(self, n=2): \n",
    "        \"\"\" Make a list of chunks of character speech. \"\"\"\n",
    "        charChunks = []\n",
    "        charChunksLabels = []\n",
    "        for char, text in self.charDict.items(): \n",
    "            chunks = self.sliceText(text)\n",
    "            for i, chunk in enumerate(chunks): \n",
    "                charChunks.append(chunk)\n",
    "                charChunksLabels.append(char + '-%s' % i)\n",
    "        return charChunks, charChunksLabels\n",
    "        \n",
    "    def sliceText(self, text, size=8000):\n",
    "        parts = []\n",
    "        while len(text) > size: \n",
    "            part = text[:size]\n",
    "            text = text[size:]\n",
    "            parts.append(part)\n",
    "        return parts\n",
    "\n",
    "    def clean(self, utterance): \n",
    "        \"\"\" \n",
    "        Cleans utterances. \n",
    "        \"\"\"\n",
    "        # Remove \"said Bernard,\" etc. \n",
    "        charRegex = \"said (%s)\" % '|'.join(self.chars)\n",
    "        out = re.sub(charRegex, '', utterance)\n",
    "       \n",
    "        # Remove quotation marks. \n",
    "        out = re.sub('[“”\"]', '', out)\n",
    "        \n",
    "        # Remove line breaks. \n",
    "        out = re.sub('\\n', ' ', out)\n",
    "        return out"
   ]
  },
  {
   "cell_type": "code",
   "execution_count": 3,
   "metadata": {
    "collapsed": false
   },
   "outputs": [],
   "source": [
    "# Code adapted from http://stackoverflow.com/a/28384887/584121\n",
    "class DenseTransformer(BaseEstimator, TransformerMixin):\n",
    "    \n",
    "    def __init__(self): \n",
    "        return\n",
    "\n",
    "    def transform(self, X, y=None, **fit_params):\n",
    "        return X.todense()\n",
    "\n",
    "    def fit_transform(self, X, y=None, **fit_params):\n",
    "        self.fit(X, y, **fit_params)\n",
    "        return self.transform(X)\n",
    "\n",
    "    def fit(self, X, y=None, **fit_params):\n",
    "        return self"
   ]
  },
  {
   "cell_type": "code",
   "execution_count": 4,
   "metadata": {
    "collapsed": false
   },
   "outputs": [
    {
     "name": "stdout",
     "output_type": "stream",
     "text": [
      "heyo! fitting\n",
      "heyo! transforming\n"
     ]
    }
   ],
   "source": [
    "text = Text().fit()\n",
    "docs = text.transform('waves-tei.xml')\n",
    "labels = text.numericLabels"
   ]
  },
  {
   "cell_type": "code",
   "execution_count": 5,
   "metadata": {
    "collapsed": false
   },
   "outputs": [
    {
     "data": {
      "text/plain": [
       "(45, 45)"
      ]
     },
     "execution_count": 5,
     "metadata": {},
     "output_type": "execute_result"
    }
   ],
   "source": [
    "len(docs), len(labels)"
   ]
  },
  {
   "cell_type": "code",
   "execution_count": 6,
   "metadata": {
    "collapsed": false
   },
   "outputs": [],
   "source": [
    "def verboseGridSearch(pipeline, parameters, docs, labels): \n",
    "    scorer = metrics.make_scorer(metrics.adjusted_rand_score)    \n",
    "    grid_search = GridSearchCV(pipeline, parameters, scoring=scorer, n_jobs=-1, verbose=1)\n",
    "\n",
    "    print(\"Performing grid search...\")\n",
    "    print(\"pipeline:\", [name for name, _ in pipeline.steps])\n",
    "    print(\"parameters:\")\n",
    "    pprint(parameters)\n",
    "    t0 = time()\n",
    "    grid_search.fit(docs, labels)\n",
    "    print(\"done in %0.3fs\" % (time() - t0))\n",
    "    print()\n",
    "\n",
    "    print(\"Best score: %0.3f\" % grid_search.best_score_)\n",
    "    print(\"Best parameters set:\")\n",
    "    best_parameters = grid_search.best_estimator_.get_params()\n",
    "    for param_name in sorted(parameters.keys()):\n",
    "        print(\"\\t%s: %r\" % (param_name, best_parameters[param_name]))"
   ]
  },
  {
   "cell_type": "code",
   "execution_count": 7,
   "metadata": {
    "collapsed": false
   },
   "outputs": [],
   "source": [
    "pipeline = Pipeline([  \n",
    "#                          ('text', Text()), \n",
    "                         ('tfidf', TfidfVectorizer()),\n",
    "                         ('todense', DenseTransformer()),\n",
    "                         ('pca', PCA()),\n",
    "                         ('bgm', BayesianGaussianMixture()),\n",
    "                        ])"
   ]
  },
  {
   "cell_type": "markdown",
   "metadata": {},
   "source": [
    "# Test 1A\n",
    "Uses the default lenMin=2000, lenMax=10000, chunks=False."
   ]
  },
  {
   "cell_type": "code",
   "execution_count": 8,
   "metadata": {
    "collapsed": false
   },
   "outputs": [
    {
     "name": "stdout",
     "output_type": "stream",
     "text": [
      "Performing grid search...\n",
      "pipeline: ['tfidf', 'todense', 'pca', 'bgm']\n",
      "parameters:\n",
      "{'bgm__n_components': (2, 4, 6),\n",
      " 'pca__n_components': (2, 5, 10, 20, 30, 50),\n",
      " 'tfidf__max_df': (0.5, 0.7, 1.0),\n",
      " 'tfidf__max_features': (100, 200, 500, 1000, 2000),\n",
      " 'tfidf__min_df': (0.0, 0.3, 0.4)}\n",
      "Fitting 3 folds for each of 810 candidates, totalling 2430 fits\n"
     ]
    },
    {
     "name": "stderr",
     "output_type": "stream",
     "text": [
      "[Parallel(n_jobs=-1)]: Done  76 tasks      | elapsed:    3.1s\n",
      "[Parallel(n_jobs=-1)]: Done 376 tasks      | elapsed:   22.4s\n",
      "[Parallel(n_jobs=-1)]: Done 876 tasks      | elapsed:   55.3s\n",
      "/usr/lib/python3.5/site-packages/sklearn/mixture/base.py:237: ConvergenceWarning: Initialization 1 did not converged. Try different init parameters, or increase max_iter, tol or check for degenerate data.\n",
      "  % (init + 1), ConvergenceWarning)\n",
      "[Parallel(n_jobs=-1)]: Done 1573 tasks      | elapsed:  1.8min\n",
      "[Parallel(n_jobs=-1)]: Done 2023 tasks      | elapsed:  2.6min\n",
      "[Parallel(n_jobs=-1)]: Done 2430 out of 2430 | elapsed:  3.1min finished\n"
     ]
    },
    {
     "name": "stdout",
     "output_type": "stream",
     "text": [
      "done in 184.280s\n",
      "\n",
      "Best score: 0.246\n",
      "Best parameters set:\n",
      "\tbgm__n_components: 4\n",
      "\tpca__n_components: 5\n",
      "\ttfidf__max_df: 0.5\n",
      "\ttfidf__max_features: 200\n",
      "\ttfidf__min_df: 0.0\n"
     ]
    }
   ],
   "source": [
    "parameters = {  \n",
    "#     'text__lenMin': (2000, 3000),\n",
    "#     'text__lenMax': (20000, 2000000),\n",
    "#     'tfidf__use_idf': (True, False), \n",
    "    'tfidf__min_df': (0.0, 0.3, 0.4),\n",
    "    'tfidf__max_df': (0.5, 0.7, 1.0),\n",
    "    'tfidf__max_features': (100, 200, 500, 1000, 2000), \n",
    "    'pca__n_components': (2, 5, 10, 20, 30, 50),\n",
    "    'bgm__n_components': (2, 4, 6)\n",
    "             }\n",
    "\n",
    "verboseGridSearch(pipeline, parameters, docs, labels)"
   ]
  },
  {
   "cell_type": "markdown",
   "metadata": {},
   "source": [
    "# Test 1B"
   ]
  },
  {
   "cell_type": "code",
   "execution_count": 11,
   "metadata": {
    "collapsed": false
   },
   "outputs": [
    {
     "name": "stdout",
     "output_type": "stream",
     "text": [
      "Performing grid search...\n",
      "pipeline: ['tfidf', 'todense', 'pca', 'bgm']\n",
      "parameters:\n",
      "{'bgm__n_components': (2, 4, 6, 8),\n",
      " 'pca__n_components': (5, 10, 20, 25, 50),\n",
      " 'tfidf__max_df': (0.2, 0.3, 0.4, 0.5, 0.6),\n",
      " 'tfidf__max_features': (100, 200, 500, 1000, 10000, 100000)}\n",
      "Fitting 3 folds for each of 600 candidates, totalling 1800 fits\n"
     ]
    },
    {
     "name": "stderr",
     "output_type": "stream",
     "text": [
      "[Parallel(n_jobs=-1)]: Done  42 tasks      | elapsed:    2.6s\n",
      "[Parallel(n_jobs=-1)]: Done 192 tasks      | elapsed:    9.8s\n",
      "[Parallel(n_jobs=-1)]: Done 442 tasks      | elapsed:   30.2s\n",
      "[Parallel(n_jobs=-1)]: Done 792 tasks      | elapsed:   58.1s\n",
      "[Parallel(n_jobs=-1)]: Done 1242 tasks      | elapsed:  1.6min\n",
      "[Parallel(n_jobs=-1)]: Done 1792 tasks      | elapsed:  2.2min\n"
     ]
    },
    {
     "name": "stdout",
     "output_type": "stream",
     "text": [
      "done in 132.883s\n",
      "\n",
      "Best score: 0.246\n",
      "Best parameters set:\n",
      "\tbgm__n_components: 8\n",
      "\tpca__n_components: 5\n",
      "\ttfidf__max_df: 0.3\n",
      "\ttfidf__max_features: 500\n"
     ]
    },
    {
     "name": "stderr",
     "output_type": "stream",
     "text": [
      "[Parallel(n_jobs=-1)]: Done 1800 out of 1800 | elapsed:  2.2min finished\n"
     ]
    }
   ],
   "source": [
    "parameters = {  \n",
    "#     'text__lenMin': (2000, 3000),\n",
    "#     'text__lenMax': (20000, 2000000),\n",
    "#     'tfidf__use_idf': (True, False), \n",
    "#     'tfidf__min_df': (0.0, 0.3, 0.4),\n",
    "    'tfidf__max_df': (0.2, 0.3, 0.4, 0.5, 0.6),\n",
    "    'tfidf__max_features': (100, 200, 500, 1000, 10000, 100000), \n",
    "    'pca__n_components': (5, 10, 20, 25, 50),\n",
    "    'bgm__n_components': (2, 4, 6, 8)\n",
    "             }\n",
    "verboseGridSearch(pipeline, parameters, docs, labels)"
   ]
  },
  {
   "cell_type": "markdown",
   "metadata": {},
   "source": [
    "# Test 1C"
   ]
  },
  {
   "cell_type": "code",
   "execution_count": 12,
   "metadata": {
    "collapsed": false
   },
   "outputs": [
    {
     "name": "stdout",
     "output_type": "stream",
     "text": [
      "Performing grid search...\n",
      "pipeline: ['tfidf', 'todense', 'pca', 'bgm']\n",
      "parameters:\n",
      "{'bgm__n_components': (2, 4, 6, 8),\n",
      " 'pca__n_components': (2, 5, 25, 35),\n",
      " 'tfidf__max_df': (0.2, 0.3, 0.4, 1),\n",
      " 'tfidf__max_features': (200, 500, 1000, None)}\n",
      "Fitting 3 folds for each of 256 candidates, totalling 768 fits\n"
     ]
    },
    {
     "name": "stderr",
     "output_type": "stream",
     "text": [
      "[Parallel(n_jobs=-1)]: Done  42 tasks      | elapsed:    2.0s\n",
      "[Parallel(n_jobs=-1)]: Done 192 tasks      | elapsed:    8.4s\n",
      "[Parallel(n_jobs=-1)]: Done 442 tasks      | elapsed:   27.9s\n",
      "[Parallel(n_jobs=-1)]: Done 768 out of 768 | elapsed:   51.8s finished\n"
     ]
    },
    {
     "name": "stdout",
     "output_type": "stream",
     "text": [
      "done in 52.284s\n",
      "\n",
      "Best score: 0.202\n",
      "Best parameters set:\n",
      "\tbgm__n_components: 8\n",
      "\tpca__n_components: 25\n",
      "\ttfidf__max_df: 0.4\n",
      "\ttfidf__max_features: None\n"
     ]
    }
   ],
   "source": [
    "parameters = {  \n",
    "#     'text__lenMin': (2000, 3000),\n",
    "#     'text__lenMax': (20000, 2000000),\n",
    "#     'tfidf__use_idf': (True, False), \n",
    "#     'tfidf__min_df': (0.0, 0.3, 0.4),\n",
    "    'tfidf__max_df': (0.2, 0.3, 0.4, 1),\n",
    "    'tfidf__max_features': (200, 500, 1000, None), \n",
    "    'pca__n_components': (2, 5, 25, 35),\n",
    "    'bgm__n_components': (2, 4, 6, 8)\n",
    "             }\n",
    "verboseGridSearch(pipeline, parameters, docs, labels)"
   ]
  },
  {
   "cell_type": "markdown",
   "metadata": {},
   "source": [
    "# Test 1D"
   ]
  },
  {
   "cell_type": "code",
   "execution_count": 14,
   "metadata": {
    "collapsed": false
   },
   "outputs": [
    {
     "name": "stdout",
     "output_type": "stream",
     "text": [
      "Performing grid search...\n",
      "pipeline: ['tfidf', 'todense', 'pca', 'bgm']\n",
      "parameters:\n",
      "{'bgm__n_components': (2, 4, 6, 8, 10),\n",
      " 'pca__n_components': (2, 5, 25, 35, 50),\n",
      " 'tfidf__max_df': (0.2, 0.3, 0.4, 1.0),\n",
      " 'tfidf__max_features': (200, 500, 1000, None),\n",
      " 'tfidf__min_df': (0.0, 1)}\n",
      "Fitting 3 folds for each of 800 candidates, totalling 2400 fits\n"
     ]
    },
    {
     "name": "stderr",
     "output_type": "stream",
     "text": [
      "[Parallel(n_jobs=-1)]: Done  76 tasks      | elapsed:    3.6s\n",
      "[Parallel(n_jobs=-1)]: Done 376 tasks      | elapsed:   23.5s\n",
      "[Parallel(n_jobs=-1)]: Done 876 tasks      | elapsed:  1.0min\n",
      "[Parallel(n_jobs=-1)]: Done 1576 tasks      | elapsed:  1.9min\n",
      "/usr/lib/python3.5/site-packages/sklearn/mixture/base.py:237: ConvergenceWarning: Initialization 1 did not converged. Try different init parameters, or increase max_iter, tol or check for degenerate data.\n",
      "  % (init + 1), ConvergenceWarning)\n",
      "[Parallel(n_jobs=-1)]: Done 2400 out of 2400 | elapsed:  3.0min finished\n"
     ]
    },
    {
     "name": "stdout",
     "output_type": "stream",
     "text": [
      "done in 180.993s\n",
      "\n",
      "Best score: 0.263\n",
      "Best parameters set:\n",
      "\tbgm__n_components: 8\n",
      "\tpca__n_components: 25\n",
      "\ttfidf__max_df: 0.4\n",
      "\ttfidf__max_features: None\n",
      "\ttfidf__min_df: 1\n"
     ]
    }
   ],
   "source": [
    "parameters = {  \n",
    "#     'text__lenMin': (2000, 3000),\n",
    "#     'text__lenMax': (20000, 2000000),\n",
    "#     'tfidf__use_idf': (True, False), \n",
    "    'tfidf__min_df': (0.0, 1),\n",
    "    'tfidf__max_df': (0.2, 0.3, 0.4, 1.0),\n",
    "    'tfidf__max_features': (200, 500, 1000, None), \n",
    "    'pca__n_components': (2, 5, 25, 35, 50),\n",
    "    'bgm__n_components': (2, 4, 6, 8, 10)\n",
    "             }\n",
    "verboseGridSearch(pipeline, parameters, docs, labels)"
   ]
  },
  {
   "cell_type": "markdown",
   "metadata": {},
   "source": [
    "# Test 2A\n",
    "Tested with the full range of utterances (lenMin=0, lenMax=a lot, chunks=False)."
   ]
  },
  {
   "cell_type": "code",
   "execution_count": 15,
   "metadata": {
    "collapsed": false
   },
   "outputs": [
    {
     "name": "stdout",
     "output_type": "stream",
     "text": [
      "heyo! fitting\n",
      "heyo! transforming\n"
     ]
    }
   ],
   "source": [
    "text = Text(lenMin=0, lenMax=1000000000).fit()\n",
    "docs = text.transform('waves-tei.xml')\n",
    "labels = text.numericLabels"
   ]
  },
  {
   "cell_type": "code",
   "execution_count": 16,
   "metadata": {
    "collapsed": false
   },
   "outputs": [
    {
     "data": {
      "text/plain": [
       "(240, 240)"
      ]
     },
     "execution_count": 16,
     "metadata": {},
     "output_type": "execute_result"
    }
   ],
   "source": [
    "len(docs), len(labels)"
   ]
  },
  {
   "cell_type": "code",
   "execution_count": 17,
   "metadata": {
    "collapsed": false
   },
   "outputs": [
    {
     "name": "stdout",
     "output_type": "stream",
     "text": [
      "Performing grid search...\n",
      "pipeline: ['tfidf', 'todense', 'pca', 'bgm']\n",
      "parameters:\n",
      "{'bgm__n_components': (6, 8, 10),\n",
      " 'pca__n_components': (2, 5, 25, 30),\n",
      " 'tfidf__max_features': (100, 500, 1000, None)}\n",
      "Fitting 3 folds for each of 48 candidates, totalling 144 fits\n"
     ]
    },
    {
     "name": "stderr",
     "output_type": "stream",
     "text": [
      "/usr/lib/python3.5/site-packages/sklearn/mixture/base.py:237: ConvergenceWarning: Initialization 1 did not converged. Try different init parameters, or increase max_iter, tol or check for degenerate data.\n",
      "  % (init + 1), ConvergenceWarning)\n",
      "/usr/lib/python3.5/site-packages/sklearn/mixture/base.py:237: ConvergenceWarning: Initialization 1 did not converged. Try different init parameters, or increase max_iter, tol or check for degenerate data.\n",
      "  % (init + 1), ConvergenceWarning)\n",
      "/usr/lib/python3.5/site-packages/sklearn/mixture/base.py:237: ConvergenceWarning: Initialization 1 did not converged. Try different init parameters, or increase max_iter, tol or check for degenerate data.\n",
      "  % (init + 1), ConvergenceWarning)\n",
      "[Parallel(n_jobs=-1)]: Done  42 tasks      | elapsed:    5.9s\n",
      "/usr/lib/python3.5/site-packages/sklearn/mixture/base.py:237: ConvergenceWarning: Initialization 1 did not converged. Try different init parameters, or increase max_iter, tol or check for degenerate data.\n",
      "  % (init + 1), ConvergenceWarning)\n",
      "/usr/lib/python3.5/site-packages/sklearn/mixture/base.py:237: ConvergenceWarning: Initialization 1 did not converged. Try different init parameters, or increase max_iter, tol or check for degenerate data.\n",
      "  % (init + 1), ConvergenceWarning)\n",
      "/usr/lib/python3.5/site-packages/sklearn/mixture/base.py:237: ConvergenceWarning: Initialization 1 did not converged. Try different init parameters, or increase max_iter, tol or check for degenerate data.\n",
      "  % (init + 1), ConvergenceWarning)\n",
      "/usr/lib/python3.5/site-packages/sklearn/mixture/base.py:237: ConvergenceWarning: Initialization 1 did not converged. Try different init parameters, or increase max_iter, tol or check for degenerate data.\n",
      "  % (init + 1), ConvergenceWarning)\n",
      "/usr/lib/python3.5/site-packages/sklearn/mixture/base.py:237: ConvergenceWarning: Initialization 1 did not converged. Try different init parameters, or increase max_iter, tol or check for degenerate data.\n",
      "  % (init + 1), ConvergenceWarning)\n",
      "/usr/lib/python3.5/site-packages/sklearn/mixture/base.py:237: ConvergenceWarning: Initialization 1 did not converged. Try different init parameters, or increase max_iter, tol or check for degenerate data.\n",
      "  % (init + 1), ConvergenceWarning)\n",
      "[Parallel(n_jobs=-1)]: Done 144 out of 144 | elapsed:   32.8s finished\n"
     ]
    },
    {
     "name": "stdout",
     "output_type": "stream",
     "text": [
      "done in 33.459s\n",
      "\n",
      "Best score: 0.025\n",
      "Best parameters set:\n",
      "\tbgm__n_components: 8\n",
      "\tpca__n_components: 5\n",
      "\ttfidf__max_features: 500\n"
     ]
    }
   ],
   "source": [
    "parameters = {  \n",
    "#     'text__lenMin': (2000, 3000),\n",
    "#     'text__lenMax': (20000, 2000000),\n",
    "#     'tfidf__use_idf': (True, False), \n",
    "#     'tfidf__min_df': (0.0, 0.3, 0.4),\n",
    "#     'tfidf__max_df': (0.5, 0.7, 1.0),\n",
    "    'tfidf__max_features': (100, 500, 1000, None), \n",
    "    'pca__n_components': (2, 5, 25, 30),\n",
    "    'bgm__n_components': (6, 8, 10)\n",
    "             }\n",
    "verboseGridSearch(pipeline, parameters, docs, labels)"
   ]
  },
  {
   "cell_type": "markdown",
   "metadata": {},
   "source": [
    "# Test 3A\n",
    "Testing with a min length of 2000, a large max length, and chunking. "
   ]
  },
  {
   "cell_type": "code",
   "execution_count": 18,
   "metadata": {
    "collapsed": false
   },
   "outputs": [
    {
     "name": "stdout",
     "output_type": "stream",
     "text": [
      "heyo! fitting\n",
      "heyo! transforming\n"
     ]
    }
   ],
   "source": [
    "text = Text(lenMin=2000, lenMax=1000000000000, chunks=True).fit()\n",
    "docs = text.transform('waves-tei.xml')\n",
    "labels = text.numericLabels"
   ]
  },
  {
   "cell_type": "code",
   "execution_count": 19,
   "metadata": {
    "collapsed": false
   },
   "outputs": [
    {
     "data": {
      "text/plain": [
       "(44, 44)"
      ]
     },
     "execution_count": 19,
     "metadata": {},
     "output_type": "execute_result"
    }
   ],
   "source": [
    "len(docs), len(labels)"
   ]
  },
  {
   "cell_type": "code",
   "execution_count": 21,
   "metadata": {
    "collapsed": false
   },
   "outputs": [
    {
     "data": {
      "text/plain": [
       "<matplotlib.axes._subplots.AxesSubplot at 0x7f8b08c4d400>"
      ]
     },
     "execution_count": 21,
     "metadata": {},
     "output_type": "execute_result"
    },
    {
     "data": {
      "image/png": "[encoded data removed]",
      "text/plain": [
       "<matplotlib.figure.Figure at 0x7f8b0a634f28>"
      ]
     },
     "metadata": {},
     "output_type": "display_data"
    }
   ],
   "source": [
    "pd.Series([len(text) for text in docs]).hist()"
   ]
  },
  {
   "cell_type": "code",
   "execution_count": 22,
   "metadata": {
    "collapsed": false
   },
   "outputs": [
    {
     "name": "stdout",
     "output_type": "stream",
     "text": [
      "Performing grid search...\n",
      "pipeline: ['tfidf', 'todense', 'pca', 'bgm']\n",
      "parameters:\n",
      "{'bgm__n_components': (6, 8, 10),\n",
      " 'pca__n_components': (2, 5, 25, 30),\n",
      " 'tfidf__max_features': (100, 500, 1000, None)}\n",
      "Fitting 3 folds for each of 48 candidates, totalling 144 fits\n"
     ]
    },
    {
     "name": "stderr",
     "output_type": "stream",
     "text": [
      "[Parallel(n_jobs=-1)]: Done  42 tasks      | elapsed:    3.7s\n",
      "[Parallel(n_jobs=-1)]: Done 144 out of 144 | elapsed:   15.8s finished\n"
     ]
    },
    {
     "name": "stdout",
     "output_type": "stream",
     "text": [
      "done in 16.150s\n",
      "\n",
      "Best score: 0.221\n",
      "Best parameters set:\n",
      "\tbgm__n_components: 6\n",
      "\tpca__n_components: 5\n",
      "\ttfidf__max_features: 500\n"
     ]
    }
   ],
   "source": [
    "parameters = {  \n",
    "#     'text__lenMin': (2000, 3000),\n",
    "#     'text__lenMax': (20000, 2000000),\n",
    "#     'tfidf__use_idf': (True, False), \n",
    "#     'tfidf__min_df': (0.0, 0.3, 0.4),\n",
    "#     'tfidf__max_df': (0.5, 0.7, 1.0),\n",
    "    'tfidf__max_features': (100, 500, 1000, None), \n",
    "    'pca__n_components': (2, 5, 25, 30),\n",
    "    'bgm__n_components': (6, 8, 10)\n",
    "             }\n",
    "verboseGridSearch(pipeline, parameters, docs, labels)"
   ]
  },
  {
   "cell_type": "markdown",
   "metadata": {},
   "source": [
    "# Test 4"
   ]
  },
  {
   "cell_type": "code",
   "execution_count": 27,
   "metadata": {
    "collapsed": false
   },
   "outputs": [
    {
     "name": "stdout",
     "output_type": "stream",
     "text": [
      "heyo! fitting\n",
      "heyo! transforming\n"
     ]
    },
    {
     "data": {
      "text/plain": [
       "<matplotlib.axes._subplots.AxesSubplot at 0x7f8b08a72f28>"
      ]
     },
     "execution_count": 27,
     "metadata": {},
     "output_type": "execute_result"
    },
    {
     "data": {
      "image/png": "[encoded data removed]",
      "text/plain": [
       "<matplotlib.figure.Figure at 0x7f8b08b9e6d8>"
      ]
     },
     "metadata": {},
     "output_type": "display_data"
    }
   ],
   "source": [
    "text = Text(lenMin=3000, lenMax=20000).fit()\n",
    "docs = text.transform('waves-tei.xml')\n",
    "labels = text.numericLabels\n",
    "pd.Series([len(text) for text in docs]).hist()"
   ]
  },
  {
   "cell_type": "code",
   "execution_count": 28,
   "metadata": {
    "collapsed": false
   },
   "outputs": [],
   "source": [
    "parameters = {  \n",
    "#     'text__lenMin': (2000, 3000),\n",
    "#     'text__lenMax': (20000, 2000000),\n",
    "#     'tfidf__use_idf': (True, False), \n",
    "#     'tfidf__min_df': (0.0, 0.3, 0.4),\n",
    "#     'tfidf__max_df': (0.5, 0.7, 1.0),\n",
    "    'tfidf__max_features': (10000, 20000, 50000, None), \n",
    "    'pca__n_components': (25, 30, 35),\n",
    "    'bgm__n_components': (6, 8, 10)\n",
    "             }"
   ]
  },
  {
   "cell_type": "code",
   "execution_count": 29,
   "metadata": {
    "collapsed": false
   },
   "outputs": [
    {
     "name": "stdout",
     "output_type": "stream",
     "text": [
      "Performing grid search...\n",
      "pipeline: ['tfidf', 'todense', 'pca', 'bgm']\n",
      "parameters:\n",
      "{'bgm__n_components': (6, 8, 10),\n",
      " 'pca__n_components': (25, 30, 35),\n",
      " 'tfidf__max_features': (10000, 20000, 50000, None)}\n",
      "Fitting 3 folds for each of 36 candidates, totalling 108 fits\n"
     ]
    },
    {
     "name": "stderr",
     "output_type": "stream",
     "text": [
      "[Parallel(n_jobs=-1)]: Done  76 tasks      | elapsed:    4.1s\n"
     ]
    },
    {
     "name": "stdout",
     "output_type": "stream",
     "text": [
      "done in 6.257s\n",
      "\n",
      "Best score: 0.107\n",
      "Best parameters set:\n",
      "\tbgm__n_components: 8\n",
      "\tpca__n_components: 35\n",
      "\ttfidf__max_features: None\n"
     ]
    },
    {
     "name": "stderr",
     "output_type": "stream",
     "text": [
      "[Parallel(n_jobs=-1)]: Done 108 out of 108 | elapsed:    6.0s finished\n"
     ]
    }
   ],
   "source": [
    "verboseGridSearch(pipeline, parameters, docs, labels)"
   ]
  },
  {
   "cell_type": "markdown",
   "metadata": {
    "collapsed": true
   },
   "source": [
    "# Test 5"
   ]
  },
  {
   "cell_type": "code",
   "execution_count": 31,
   "metadata": {
    "collapsed": false
   },
   "outputs": [
    {
     "name": "stdout",
     "output_type": "stream",
     "text": [
      "heyo! fitting\n",
      "heyo! transforming\n"
     ]
    },
    {
     "data": {
      "text/plain": [
       "<matplotlib.axes._subplots.AxesSubplot at 0x7f8b08932c18>"
      ]
     },
     "execution_count": 31,
     "metadata": {},
     "output_type": "execute_result"
    },
    {
     "data": {
      "image/png": "[encoded data removed]",
      "text/plain": [
       "<matplotlib.figure.Figure at 0x7f8b08a85b70>"
      ]
     },
     "metadata": {},
     "output_type": "display_data"
    }
   ],
   "source": [
    "text = Text(lenMin=0, lenMax=10000).fit()\n",
    "docs = text.transform('waves-tei.xml')\n",
    "labels = text.numericLabels\n",
    "pd.Series([len(text) for text in docs]).hist()"
   ]
  },
  {
   "cell_type": "code",
   "execution_count": 32,
   "metadata": {
    "collapsed": false
   },
   "outputs": [],
   "source": [
    "parameters = {  \n",
    "#     'text__lenMin': (2000, 3000),\n",
    "#     'text__lenMax': (20000, 2000000),\n",
    "#     'tfidf__use_idf': (True, False), \n",
    "#     'tfidf__min_df': (0.0, 0.3, 0.4),\n",
    "#     'tfidf__max_df': (0.5, 0.7, 1.0),\n",
    "    'tfidf__max_features': (10000, 20000, 50000, None), \n",
    "    'pca__n_components': (25, 30, 35),\n",
    "    'bgm__n_components': (6, 8, 10)\n",
    "             }"
   ]
  },
  {
   "cell_type": "code",
   "execution_count": 33,
   "metadata": {
    "collapsed": false
   },
   "outputs": [
    {
     "name": "stdout",
     "output_type": "stream",
     "text": [
      "Performing grid search...\n",
      "pipeline: ['tfidf', 'todense', 'pca', 'bgm']\n",
      "parameters:\n",
      "{'bgm__n_components': (6, 8, 10),\n",
      " 'pca__n_components': (25, 30, 35),\n",
      " 'tfidf__max_features': (10000, 20000, 50000, None)}\n",
      "Fitting 3 folds for each of 36 candidates, totalling 108 fits\n"
     ]
    },
    {
     "name": "stderr",
     "output_type": "stream",
     "text": [
      "[Parallel(n_jobs=-1)]: Done  42 tasks      | elapsed:   15.1s\n",
      "[Parallel(n_jobs=-1)]: Done 108 out of 108 | elapsed:   42.6s finished\n"
     ]
    },
    {
     "name": "stdout",
     "output_type": "stream",
     "text": [
      "done in 43.701s\n",
      "\n",
      "Best score: 0.020\n",
      "Best parameters set:\n",
      "\tbgm__n_components: 10\n",
      "\tpca__n_components: 25\n",
      "\ttfidf__max_features: 20000\n"
     ]
    }
   ],
   "source": [
    "verboseGridSearch(pipeline, parameters, docs, labels)"
   ]
  },
  {
   "cell_type": "markdown",
   "metadata": {},
   "source": [
    "# Test 6"
   ]
  },
  {
   "cell_type": "code",
   "execution_count": 34,
   "metadata": {
    "collapsed": false
   },
   "outputs": [
    {
     "name": "stdout",
     "output_type": "stream",
     "text": [
      "heyo! fitting\n",
      "heyo! transforming\n"
     ]
    },
    {
     "data": {
      "text/plain": [
       "<matplotlib.axes._subplots.AxesSubplot at 0x7f8b08ba7278>"
      ]
     },
     "execution_count": 34,
     "metadata": {},
     "output_type": "execute_result"
    },
    {
     "data": {
      "image/png": "[encoded data removed]",
      "text/plain": [
       "<matplotlib.figure.Figure at 0x7f8b08a26358>"
      ]
     },
     "metadata": {},
     "output_type": "display_data"
    }
   ],
   "source": [
    "text = Text(lenMin=4000, lenMax=10000000000).fit()\n",
    "docs = text.tr10000010000010000000000rm('waves-tei.xml')\n",
    "labels = text.numericLabels\n",
    "pd.Series([len(text) for text in docs]).hist()"
   ]
  },
  {
   "cell_type": "code",
   "execution_count": 35,
   "metadata": {
    "collapsed": false
   },
   "outputs": [
    {
     "data": {
      "text/plain": [
       "20"
      ]
     },
     "execution_count": 35,
     "metadata": {},
     "output_type": "execute_result"
    }
   ],
   "source": [
    "len(docs)"
   ]
  },
  {
   "cell_type": "code",
   "execution_count": 36,
   "metadata": {
    "collapsed": false
   },
   "outputs": [],
   "source": [
    "parameters = {  \n",
    "#     'text__lenMin': (2000, 3000),\n",
    "#     'text__lenMax': (20000, 2000000),\n",
    "#     'tfidf__use_idf': (True, False), \n",
    "#     'tfidf__min_df': (0.0, 0.3, 0.4),\n",
    "#     'tfidf__max_df': (0.5, 0.7, 1.0),\n",
    "    'tfidf__max_features': (10000, 20000, 50000, None), \n",
    "    'pca__n_components': (25, 30, 35),\n",
    "    'bgm__n_components': (6, 8, 10)\n",
    "             }"
   ]
  },
  {
   "cell_type": "code",
   "execution_count": 37,
   "metadata": {
    "collapsed": false
   },
   "outputs": [
    {
     "name": "stdout",
     "output_type": "stream",
     "text": [
      "Performing grid search...\n",
      "pipeline: ['tfidf', 'todense', 'pca', 'bgm']\n",
      "parameters:\n",
      "{'bgm__n_components': (6, 8, 10),\n",
      " 'pca__n_components': (25, 30, 35),\n",
      " 'tfidf__max_features': (10000, 20000, 50000, None)}\n",
      "Fitting 3 folds for each of 36 candidates, totalling 108 fits\n"
     ]
    },
    {
     "name": "stderr",
     "output_type": "stream",
     "text": [
      "[Parallel(n_jobs=-1)]: Done  75 tasks      | elapsed:    3.4s\n",
      "[Parallel(n_jobs=-1)]: Done 101 out of 108 | elapsed:    4.4s remaining:    0.3s\n",
      "[Parallel(n_jobs=-1)]: Done 108 out of 108 | elapsed:    4.6s finished\n"
     ]
    },
    {
     "name": "stdout",
     "output_type": "stream",
     "text": [
      "done in 4.826s\n",
      "\n",
      "Best score: 0.114\n",
      "Best parameters set:\n",
      "\tbgm__n_components: 8\n",
      "\tpca__n_components: 35\n",
      "\ttfidf__max_features: 20000\n"
     ]
    }
   ],
   "source": [
    "verboseGridSearch(pipeline, parameters, docs, labels)"
   ]
  },
  {
   "cell_type": "markdown",
   "metadata": {},
   "source": [
    "# Test 7"
   ]
  },
  {
   "cell_type": "code",
   "execution_count": 39,
   "metadata": {
    "collapsed": false
   },
   "outputs": [
    {
     "name": "stdout",
     "output_type": "stream",
     "text": [
      "heyo! fitting\n",
      "heyo! transforming\n"
     ]
    },
    {
     "data": {
      "text/plain": [
       "<matplotlib.axes._subplots.AxesSubplot at 0x7f8b0883bb38>"
      ]
     },
     "execution_count": 39,
     "metadata": {},
     "output_type": "execute_result"
    },
    {
     "data": {
      "image/png": "[encoded data removed]",
      "text/plain": [
       "<matplotlib.figure.Figure at 0x7f8b08a26780>"
      ]
     },
     "metadata": {},
     "output_type": "display_data"
    }
   ],
   "source": [
    "text = Text(lenMin=2000, lenMax=50000).fit()\n",
    "docs = text.transform('waves-tei.xml')\n",
    "labels = text.numericLabels\n",
    "pd.Series([len(text) for text in docs]).hist()"
   ]
  },
  {
   "cell_type": "code",
   "execution_count": 40,
   "metadata": {
    "collapsed": false
   },
   "outputs": [
    {
     "data": {
      "text/plain": [
       "46"
      ]
     },
     "execution_count": 40,
     "metadata": {},
     "output_type": "execute_result"
    }
   ],
   "source": [
    "len(docs)"
   ]
  },
  {
   "cell_type": "code",
   "execution_count": 41,
   "metadata": {
    "collapsed": false
   },
   "outputs": [],
   "source": [
    "parameters = {  \n",
    "#     'text__lenMin': (2000, 3000),\n",
    "#     'text__lenMax': (20000, 2000000),\n",
    "#     'tfidf__use_idf': (True, False), \n",
    "#     'tfidf__min_df': (0.0, 0.3, 0.4),\n",
    "    'tfidf__max_df': (0.3, 0.4, 0.5, 1.0),\n",
    "    'tfidf__max_features': (100, 500, 5000, None), \n",
    "    'pca__n_components': (2, 5, 25, 35),\n",
    "    'bgm__n_components': (2, 6, 8, 10)\n",
    "             }"
   ]
  },
  {
   "cell_type": "code",
   "execution_count": 42,
   "metadata": {
    "collapsed": false
   },
   "outputs": [
    {
     "name": "stdout",
     "output_type": "stream",
     "text": [
      "Performing grid search...\n",
      "pipeline: ['tfidf', 'todense', 'pca', 'bgm']\n",
      "parameters:\n",
      "{'bgm__n_components': (2, 6, 8, 10),\n",
      " 'pca__n_components': (2, 5, 25, 35),\n",
      " 'tfidf__max_df': (0.3, 0.4, 0.5, 1.0),\n",
      " 'tfidf__max_features': (100, 500, 5000, None)}\n",
      "Fitting 3 folds for each of 256 candidates, totalling 768 fits\n"
     ]
    },
    {
     "name": "stderr",
     "output_type": "stream",
     "text": [
      "[Parallel(n_jobs=-1)]: Done  76 tasks      | elapsed:    3.9s\n",
      "[Parallel(n_jobs=-1)]: Done 376 tasks      | elapsed:   23.6s\n",
      "[Parallel(n_jobs=-1)]: Done 768 out of 768 | elapsed:   57.1s finished\n"
     ]
    },
    {
     "name": "stdout",
     "output_type": "stream",
     "text": [
      "done in 57.484s\n",
      "\n",
      "Best score: 0.257\n",
      "Best parameters set:\n",
      "\tbgm__n_components: 10\n",
      "\tpca__n_components: 25\n",
      "\ttfidf__max_df: 0.5\n",
      "\ttfidf__max_features: 5000\n"
     ]
    }
   ],
   "source": [
    "verboseGridSearch(pipeline, parameters, docs, labels)"
   ]
  },
  {
   "cell_type": "markdown",
   "metadata": {},
   "source": [
    "# Test 8"
   ]
  },
  {
   "cell_type": "code",
   "execution_count": 43,
   "metadata": {
    "collapsed": false
   },
   "outputs": [
    {
     "name": "stdout",
     "output_type": "stream",
     "text": [
      "heyo! fitting\n",
      "heyo! transforming\n"
     ]
    },
    {
     "data": {
      "text/plain": [
       "<matplotlib.axes._subplots.AxesSubplot at 0x7f8b08a269e8>"
      ]
     },
     "execution_count": 43,
     "metadata": {},
     "output_type": "execute_result"
    },
    {
     "data": {
      "image/png": "[encoded data removed]",
      "text/plain": [
       "<matplotlib.figure.Figure at 0x7f8b08978160>"
      ]
     },
     "metadata": {},
     "output_type": "display_data"
    }
   ],
   "source": [
    "text = Text(lenMin=4000, lenMax=20000).fit()\n",
    "docs = text.transform('waves-tei.xml')\n",
    "labels = text.numericLabels\n",
    "pd.Series([len(text) for text in docs]).hist()"
   ]
  },
  {
   "cell_type": "code",
   "execution_count": 44,
   "metadata": {
    "collapsed": false
   },
   "outputs": [
    {
     "data": {
      "text/plain": [
       "19"
      ]
     },
     "execution_count": 44,
     "metadata": {},
     "output_type": "execute_result"
    }
   ],
   "source": [
    "len(docs)"
   ]
  },
  {
   "cell_type": "code",
   "execution_count": 45,
   "metadata": {
    "collapsed": false
   },
   "outputs": [],
   "source": [
    "parameters = {  \n",
    "#     'text__lenMin': (2000, 3000),\n",
    "#     'text__lenMax': (20000, 2000000),\n",
    "#     'tfidf__use_idf': (True, False), \n",
    "#     'tfidf__min_df': (0.0, 0.3, 0.4),\n",
    "    'tfidf__max_df': (0.3, 0.4, 0.5, 1.0),\n",
    "    'tfidf__max_features': (100, 500, 5000, None), \n",
    "    'pca__n_components': (2, 5, 25, 35),\n",
    "    'bgm__n_components': (2, 6, 8, 10)\n",
    "             }"
   ]
  },
  {
   "cell_type": "code",
   "execution_count": 46,
   "metadata": {
    "collapsed": false
   },
   "outputs": [
    {
     "name": "stdout",
     "output_type": "stream",
     "text": [
      "Performing grid search...\n",
      "pipeline: ['tfidf', 'todense', 'pca', 'bgm']\n",
      "parameters:\n",
      "{'bgm__n_components': (2, 6, 8, 10),\n",
      " 'pca__n_components': (2, 5, 25, 35),\n",
      " 'tfidf__max_df': (0.3, 0.4, 0.5, 1.0),\n",
      " 'tfidf__max_features': (100, 500, 5000, None)}\n",
      "Fitting 3 folds for each of 256 candidates, totalling 768 fits\n"
     ]
    },
    {
     "name": "stderr",
     "output_type": "stream",
     "text": [
      "[Parallel(n_jobs=-1)]: Done  76 tasks      | elapsed:    2.8s\n",
      "[Parallel(n_jobs=-1)]: Done 376 tasks      | elapsed:   14.6s\n"
     ]
    },
    {
     "name": "stdout",
     "output_type": "stream",
     "text": [
      "done in 35.506s\n",
      "\n",
      "Best score: 0.302\n",
      "Best parameters set:\n",
      "\tbgm__n_components: 8\n",
      "\tpca__n_components: 5\n",
      "\ttfidf__max_df: 0.3\n",
      "\ttfidf__max_features: 500\n"
     ]
    },
    {
     "name": "stderr",
     "output_type": "stream",
     "text": [
      "[Parallel(n_jobs=-1)]: Done 768 out of 768 | elapsed:   35.3s finished\n"
     ]
    }
   ],
   "source": [
    "verboseGridSearch(pipeline, parameters, docs, labels)"
   ]
  },
  {
   "cell_type": "markdown",
   "metadata": {},
   "source": [
    "# Test 9"
   ]
  },
  {
   "cell_type": "code",
   "execution_count": 50,
   "metadata": {
    "collapsed": false
   },
   "outputs": [],
   "source": [
    "parameters = {  \n",
    "#     'text__lenMin': (2000, 3000),\n",
    "#     'text__lenMax': (20000, 2000000),\n",
    "#     'tfidf__use_idf': (True, False), \n",
    "#     'tfidf__min_df': (0.0, 0.3, 0.4),\n",
    "    'tfidf__max_df': (0.1, 0.2, 0.3, 0.4, 1.0),\n",
    "    'tfidf__max_features': (100, 400, 500, 5000, None), \n",
    "    'pca__n_components': (2, 4, 5, 25, 35),\n",
    "    'bgm__n_components': (2, 6, 8, 10)\n",
    "             }"
   ]
  },
  {
   "cell_type": "code",
   "execution_count": 51,
   "metadata": {
    "collapsed": false
   },
   "outputs": [
    {
     "name": "stdout",
     "output_type": "stream",
     "text": [
      "Performing grid search...\n",
      "pipeline: ['tfidf', 'todense', 'pca', 'bgm']\n",
      "parameters:\n",
      "{'bgm__n_components': (2, 6, 8, 10),\n",
      " 'pca__n_components': (2, 4, 5, 25, 35),\n",
      " 'tfidf__max_df': (0.1, 0.2, 0.3, 0.4, 1.0),\n",
      " 'tfidf__max_features': (100, 400, 500, 5000, None)}\n",
      "Fitting 3 folds for each of 500 candidates, totalling 1500 fits\n"
     ]
    },
    {
     "name": "stderr",
     "output_type": "stream",
     "text": [
      "[Parallel(n_jobs=-1)]: Done  76 tasks      | elapsed:    2.5s\n",
      "[Parallel(n_jobs=-1)]: Done 376 tasks      | elapsed:   13.6s\n",
      "[Parallel(n_jobs=-1)]: Done 876 tasks      | elapsed:   38.6s\n"
     ]
    },
    {
     "name": "stdout",
     "output_type": "stream",
     "text": [
      "done in 70.468s\n",
      "\n",
      "Best score: 0.425\n",
      "Best parameters set:\n",
      "\tbgm__n_components: 8\n",
      "\tpca__n_components: 5\n",
      "\ttfidf__max_df: 0.3\n",
      "\ttfidf__max_features: 500\n"
     ]
    },
    {
     "name": "stderr",
     "output_type": "stream",
     "text": [
      "[Parallel(n_jobs=-1)]: Done 1500 out of 1500 | elapsed:  1.2min finished\n"
     ]
    }
   ],
   "source": [
    "verboseGridSearch(pipeline, parameters, docs, labels)"
   ]
  },
  {
   "cell_type": "code",
   "execution_count": null,
   "metadata": {
    "collapsed": true
   },
   "outputs": [],
   "source": []
  }
 ],
 "metadata": {
  "kernelspec": {
   "display_name": "Python 3",
   "language": "python",
   "name": "python3"
  },
  "language_info": {
   "codemirror_mode": {
    "name": "ipython",
    "version": 3
   },
   "file_extension": ".py",
   "mimetype": "text/x-python",
   "name": "python",
   "nbconvert_exporter": "python",
   "pygments_lexer": "ipython3",
   "version": "3.5.2"
  }
 },
 "nbformat": 4,
 "nbformat_minor": 1
}
